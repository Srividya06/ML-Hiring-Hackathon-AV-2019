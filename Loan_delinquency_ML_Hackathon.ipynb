{
 "cells": [
  {
   "cell_type": "markdown",
   "metadata": {},
   "source": [
    "Loan Delinquency Prediction"
   ]
  },
  {
   "cell_type": "code",
   "execution_count": 1,
   "metadata": {},
   "outputs": [],
   "source": [
    "import numpy as np\n",
    "import matplotlib.pyplot as plt\n",
    "import pandas as pd\n",
    "%matplotlib inline\n",
    "import seaborn as sns"
   ]
  },
  {
   "cell_type": "code",
   "execution_count": 2,
   "metadata": {},
   "outputs": [],
   "source": [
    "test_data = pd.read_csv(\"C:/Python/IndiaML/data/test.csv\")\n",
    "train_data = pd.read_csv(\"C:/Python/IndiaML/data/train.csv\")"
   ]
  },
  {
   "cell_type": "code",
   "execution_count": 3,
   "metadata": {},
   "outputs": [
    {
     "data": {
      "text/html": [
       "<div>\n",
       "<style scoped>\n",
       "    .dataframe tbody tr th:only-of-type {\n",
       "        vertical-align: middle;\n",
       "    }\n",
       "\n",
       "    .dataframe tbody tr th {\n",
       "        vertical-align: top;\n",
       "    }\n",
       "\n",
       "    .dataframe thead th {\n",
       "        text-align: right;\n",
       "    }\n",
       "</style>\n",
       "<table border=\"1\" class=\"dataframe\">\n",
       "  <thead>\n",
       "    <tr style=\"text-align: right;\">\n",
       "      <th></th>\n",
       "      <th>loan_id</th>\n",
       "      <th>source</th>\n",
       "      <th>financial_institution</th>\n",
       "      <th>interest_rate</th>\n",
       "      <th>unpaid_principal_bal</th>\n",
       "      <th>loan_term</th>\n",
       "      <th>origination_date</th>\n",
       "      <th>first_payment_date</th>\n",
       "      <th>loan_to_value</th>\n",
       "      <th>number_of_borrowers</th>\n",
       "      <th>...</th>\n",
       "      <th>m4</th>\n",
       "      <th>m5</th>\n",
       "      <th>m6</th>\n",
       "      <th>m7</th>\n",
       "      <th>m8</th>\n",
       "      <th>m9</th>\n",
       "      <th>m10</th>\n",
       "      <th>m11</th>\n",
       "      <th>m12</th>\n",
       "      <th>m13</th>\n",
       "    </tr>\n",
       "  </thead>\n",
       "  <tbody>\n",
       "    <tr>\n",
       "      <th>0</th>\n",
       "      <td>268055008619</td>\n",
       "      <td>Z</td>\n",
       "      <td>Turner, Baldwin and Rhodes</td>\n",
       "      <td>4.250</td>\n",
       "      <td>214000</td>\n",
       "      <td>360</td>\n",
       "      <td>2012-03-01</td>\n",
       "      <td>05/2012</td>\n",
       "      <td>95</td>\n",
       "      <td>1.0</td>\n",
       "      <td>...</td>\n",
       "      <td>0</td>\n",
       "      <td>0</td>\n",
       "      <td>0</td>\n",
       "      <td>1</td>\n",
       "      <td>0</td>\n",
       "      <td>0</td>\n",
       "      <td>0</td>\n",
       "      <td>0</td>\n",
       "      <td>0</td>\n",
       "      <td>1</td>\n",
       "    </tr>\n",
       "    <tr>\n",
       "      <th>1</th>\n",
       "      <td>672831657627</td>\n",
       "      <td>Y</td>\n",
       "      <td>Swanson, Newton and Miller</td>\n",
       "      <td>4.875</td>\n",
       "      <td>144000</td>\n",
       "      <td>360</td>\n",
       "      <td>2012-01-01</td>\n",
       "      <td>03/2012</td>\n",
       "      <td>72</td>\n",
       "      <td>1.0</td>\n",
       "      <td>...</td>\n",
       "      <td>0</td>\n",
       "      <td>0</td>\n",
       "      <td>0</td>\n",
       "      <td>0</td>\n",
       "      <td>0</td>\n",
       "      <td>0</td>\n",
       "      <td>0</td>\n",
       "      <td>1</td>\n",
       "      <td>0</td>\n",
       "      <td>1</td>\n",
       "    </tr>\n",
       "    <tr>\n",
       "      <th>2</th>\n",
       "      <td>742515242108</td>\n",
       "      <td>Z</td>\n",
       "      <td>Thornton-Davis</td>\n",
       "      <td>3.250</td>\n",
       "      <td>366000</td>\n",
       "      <td>180</td>\n",
       "      <td>2012-01-01</td>\n",
       "      <td>03/2012</td>\n",
       "      <td>49</td>\n",
       "      <td>1.0</td>\n",
       "      <td>...</td>\n",
       "      <td>0</td>\n",
       "      <td>0</td>\n",
       "      <td>0</td>\n",
       "      <td>0</td>\n",
       "      <td>0</td>\n",
       "      <td>0</td>\n",
       "      <td>0</td>\n",
       "      <td>0</td>\n",
       "      <td>0</td>\n",
       "      <td>1</td>\n",
       "    </tr>\n",
       "    <tr>\n",
       "      <th>3</th>\n",
       "      <td>601385667462</td>\n",
       "      <td>X</td>\n",
       "      <td>OTHER</td>\n",
       "      <td>4.750</td>\n",
       "      <td>135000</td>\n",
       "      <td>360</td>\n",
       "      <td>2012-02-01</td>\n",
       "      <td>04/2012</td>\n",
       "      <td>46</td>\n",
       "      <td>2.0</td>\n",
       "      <td>...</td>\n",
       "      <td>0</td>\n",
       "      <td>0</td>\n",
       "      <td>0</td>\n",
       "      <td>0</td>\n",
       "      <td>0</td>\n",
       "      <td>1</td>\n",
       "      <td>1</td>\n",
       "      <td>1</td>\n",
       "      <td>1</td>\n",
       "      <td>1</td>\n",
       "    </tr>\n",
       "    <tr>\n",
       "      <th>4</th>\n",
       "      <td>273870029961</td>\n",
       "      <td>X</td>\n",
       "      <td>OTHER</td>\n",
       "      <td>4.750</td>\n",
       "      <td>124000</td>\n",
       "      <td>360</td>\n",
       "      <td>2012-02-01</td>\n",
       "      <td>04/2012</td>\n",
       "      <td>80</td>\n",
       "      <td>1.0</td>\n",
       "      <td>...</td>\n",
       "      <td>3</td>\n",
       "      <td>4</td>\n",
       "      <td>5</td>\n",
       "      <td>6</td>\n",
       "      <td>7</td>\n",
       "      <td>8</td>\n",
       "      <td>9</td>\n",
       "      <td>10</td>\n",
       "      <td>11</td>\n",
       "      <td>1</td>\n",
       "    </tr>\n",
       "  </tbody>\n",
       "</table>\n",
       "<p>5 rows × 29 columns</p>\n",
       "</div>"
      ],
      "text/plain": [
       "        loan_id source       financial_institution  interest_rate  \\\n",
       "0  268055008619      Z  Turner, Baldwin and Rhodes          4.250   \n",
       "1  672831657627      Y  Swanson, Newton and Miller          4.875   \n",
       "2  742515242108      Z              Thornton-Davis          3.250   \n",
       "3  601385667462      X                       OTHER          4.750   \n",
       "4  273870029961      X                       OTHER          4.750   \n",
       "\n",
       "   unpaid_principal_bal  loan_term origination_date first_payment_date  \\\n",
       "0                214000        360       2012-03-01            05/2012   \n",
       "1                144000        360       2012-01-01            03/2012   \n",
       "2                366000        180       2012-01-01            03/2012   \n",
       "3                135000        360       2012-02-01            04/2012   \n",
       "4                124000        360       2012-02-01            04/2012   \n",
       "\n",
       "   loan_to_value  number_of_borrowers  ...  m4  m5 m6  m7  m8  m9  m10  m11  \\\n",
       "0             95                  1.0  ...   0   0  0   1   0   0    0    0   \n",
       "1             72                  1.0  ...   0   0  0   0   0   0    0    1   \n",
       "2             49                  1.0  ...   0   0  0   0   0   0    0    0   \n",
       "3             46                  2.0  ...   0   0  0   0   0   1    1    1   \n",
       "4             80                  1.0  ...   3   4  5   6   7   8    9   10   \n",
       "\n",
       "   m12  m13  \n",
       "0    0    1  \n",
       "1    0    1  \n",
       "2    0    1  \n",
       "3    1    1  \n",
       "4   11    1  \n",
       "\n",
       "[5 rows x 29 columns]"
      ]
     },
     "execution_count": 3,
     "metadata": {},
     "output_type": "execute_result"
    }
   ],
   "source": [
    "train_data.head()"
   ]
  },
  {
   "cell_type": "code",
   "execution_count": 4,
   "metadata": {},
   "outputs": [
    {
     "data": {
      "text/html": [
       "<div>\n",
       "<style scoped>\n",
       "    .dataframe tbody tr th:only-of-type {\n",
       "        vertical-align: middle;\n",
       "    }\n",
       "\n",
       "    .dataframe tbody tr th {\n",
       "        vertical-align: top;\n",
       "    }\n",
       "\n",
       "    .dataframe thead th {\n",
       "        text-align: right;\n",
       "    }\n",
       "</style>\n",
       "<table border=\"1\" class=\"dataframe\">\n",
       "  <thead>\n",
       "    <tr style=\"text-align: right;\">\n",
       "      <th></th>\n",
       "      <th>loan_id</th>\n",
       "      <th>interest_rate</th>\n",
       "      <th>unpaid_principal_bal</th>\n",
       "      <th>loan_term</th>\n",
       "      <th>loan_to_value</th>\n",
       "      <th>number_of_borrowers</th>\n",
       "      <th>debt_to_income_ratio</th>\n",
       "      <th>borrower_credit_score</th>\n",
       "      <th>insurance_percent</th>\n",
       "      <th>co-borrower_credit_score</th>\n",
       "      <th>...</th>\n",
       "      <th>m4</th>\n",
       "      <th>m5</th>\n",
       "      <th>m6</th>\n",
       "      <th>m7</th>\n",
       "      <th>m8</th>\n",
       "      <th>m9</th>\n",
       "      <th>m10</th>\n",
       "      <th>m11</th>\n",
       "      <th>m12</th>\n",
       "      <th>m13</th>\n",
       "    </tr>\n",
       "  </thead>\n",
       "  <tbody>\n",
       "    <tr>\n",
       "      <th>count</th>\n",
       "      <td>1.160580e+05</td>\n",
       "      <td>116058.000000</td>\n",
       "      <td>1.160580e+05</td>\n",
       "      <td>116058.000000</td>\n",
       "      <td>116058.000000</td>\n",
       "      <td>116058.000000</td>\n",
       "      <td>116058.000000</td>\n",
       "      <td>116058.000000</td>\n",
       "      <td>116058.000000</td>\n",
       "      <td>116058.000000</td>\n",
       "      <td>...</td>\n",
       "      <td>116058.000000</td>\n",
       "      <td>116058.000000</td>\n",
       "      <td>116058.000000</td>\n",
       "      <td>116058.000000</td>\n",
       "      <td>116058.000000</td>\n",
       "      <td>116058.000000</td>\n",
       "      <td>116058.000000</td>\n",
       "      <td>116058.000000</td>\n",
       "      <td>116058.000000</td>\n",
       "      <td>116058.000000</td>\n",
       "    </tr>\n",
       "    <tr>\n",
       "      <th>mean</th>\n",
       "      <td>5.494155e+11</td>\n",
       "      <td>3.868961</td>\n",
       "      <td>2.082262e+05</td>\n",
       "      <td>292.280997</td>\n",
       "      <td>67.431939</td>\n",
       "      <td>1.593186</td>\n",
       "      <td>30.742293</td>\n",
       "      <td>769.926778</td>\n",
       "      <td>2.786288</td>\n",
       "      <td>459.611565</td>\n",
       "      <td>...</td>\n",
       "      <td>0.002180</td>\n",
       "      <td>0.003533</td>\n",
       "      <td>0.003421</td>\n",
       "      <td>0.004162</td>\n",
       "      <td>0.004825</td>\n",
       "      <td>0.005359</td>\n",
       "      <td>0.006617</td>\n",
       "      <td>0.007109</td>\n",
       "      <td>0.008065</td>\n",
       "      <td>0.005480</td>\n",
       "    </tr>\n",
       "    <tr>\n",
       "      <th>std</th>\n",
       "      <td>2.597560e+11</td>\n",
       "      <td>0.461020</td>\n",
       "      <td>1.146851e+05</td>\n",
       "      <td>89.762415</td>\n",
       "      <td>17.291719</td>\n",
       "      <td>0.491242</td>\n",
       "      <td>9.730798</td>\n",
       "      <td>42.210706</td>\n",
       "      <td>8.096464</td>\n",
       "      <td>381.946926</td>\n",
       "      <td>...</td>\n",
       "      <td>0.062161</td>\n",
       "      <td>0.082638</td>\n",
       "      <td>0.087553</td>\n",
       "      <td>0.100961</td>\n",
       "      <td>0.113128</td>\n",
       "      <td>0.128242</td>\n",
       "      <td>0.148430</td>\n",
       "      <td>0.162884</td>\n",
       "      <td>0.178128</td>\n",
       "      <td>0.073824</td>\n",
       "    </tr>\n",
       "    <tr>\n",
       "      <th>min</th>\n",
       "      <td>1.000009e+11</td>\n",
       "      <td>2.250000</td>\n",
       "      <td>1.100000e+04</td>\n",
       "      <td>60.000000</td>\n",
       "      <td>6.000000</td>\n",
       "      <td>1.000000</td>\n",
       "      <td>1.000000</td>\n",
       "      <td>0.000000</td>\n",
       "      <td>0.000000</td>\n",
       "      <td>0.000000</td>\n",
       "      <td>...</td>\n",
       "      <td>0.000000</td>\n",
       "      <td>0.000000</td>\n",
       "      <td>0.000000</td>\n",
       "      <td>0.000000</td>\n",
       "      <td>0.000000</td>\n",
       "      <td>0.000000</td>\n",
       "      <td>0.000000</td>\n",
       "      <td>0.000000</td>\n",
       "      <td>0.000000</td>\n",
       "      <td>0.000000</td>\n",
       "    </tr>\n",
       "    <tr>\n",
       "      <th>25%</th>\n",
       "      <td>3.244656e+11</td>\n",
       "      <td>3.500000</td>\n",
       "      <td>1.200000e+05</td>\n",
       "      <td>180.000000</td>\n",
       "      <td>57.000000</td>\n",
       "      <td>1.000000</td>\n",
       "      <td>23.000000</td>\n",
       "      <td>751.000000</td>\n",
       "      <td>0.000000</td>\n",
       "      <td>0.000000</td>\n",
       "      <td>...</td>\n",
       "      <td>0.000000</td>\n",
       "      <td>0.000000</td>\n",
       "      <td>0.000000</td>\n",
       "      <td>0.000000</td>\n",
       "      <td>0.000000</td>\n",
       "      <td>0.000000</td>\n",
       "      <td>0.000000</td>\n",
       "      <td>0.000000</td>\n",
       "      <td>0.000000</td>\n",
       "      <td>0.000000</td>\n",
       "    </tr>\n",
       "    <tr>\n",
       "      <th>50%</th>\n",
       "      <td>5.486239e+11</td>\n",
       "      <td>3.875000</td>\n",
       "      <td>1.830000e+05</td>\n",
       "      <td>360.000000</td>\n",
       "      <td>72.000000</td>\n",
       "      <td>2.000000</td>\n",
       "      <td>31.000000</td>\n",
       "      <td>782.000000</td>\n",
       "      <td>0.000000</td>\n",
       "      <td>740.000000</td>\n",
       "      <td>...</td>\n",
       "      <td>0.000000</td>\n",
       "      <td>0.000000</td>\n",
       "      <td>0.000000</td>\n",
       "      <td>0.000000</td>\n",
       "      <td>0.000000</td>\n",
       "      <td>0.000000</td>\n",
       "      <td>0.000000</td>\n",
       "      <td>0.000000</td>\n",
       "      <td>0.000000</td>\n",
       "      <td>0.000000</td>\n",
       "    </tr>\n",
       "    <tr>\n",
       "      <th>75%</th>\n",
       "      <td>7.743034e+11</td>\n",
       "      <td>4.125000</td>\n",
       "      <td>2.780000e+05</td>\n",
       "      <td>360.000000</td>\n",
       "      <td>80.000000</td>\n",
       "      <td>2.000000</td>\n",
       "      <td>39.000000</td>\n",
       "      <td>800.000000</td>\n",
       "      <td>0.000000</td>\n",
       "      <td>791.000000</td>\n",
       "      <td>...</td>\n",
       "      <td>0.000000</td>\n",
       "      <td>0.000000</td>\n",
       "      <td>0.000000</td>\n",
       "      <td>0.000000</td>\n",
       "      <td>0.000000</td>\n",
       "      <td>0.000000</td>\n",
       "      <td>0.000000</td>\n",
       "      <td>0.000000</td>\n",
       "      <td>0.000000</td>\n",
       "      <td>0.000000</td>\n",
       "    </tr>\n",
       "    <tr>\n",
       "      <th>max</th>\n",
       "      <td>9.999971e+11</td>\n",
       "      <td>6.750000</td>\n",
       "      <td>1.200000e+06</td>\n",
       "      <td>360.000000</td>\n",
       "      <td>97.000000</td>\n",
       "      <td>2.000000</td>\n",
       "      <td>64.000000</td>\n",
       "      <td>840.000000</td>\n",
       "      <td>40.000000</td>\n",
       "      <td>836.000000</td>\n",
       "      <td>...</td>\n",
       "      <td>6.000000</td>\n",
       "      <td>7.000000</td>\n",
       "      <td>8.000000</td>\n",
       "      <td>9.000000</td>\n",
       "      <td>10.000000</td>\n",
       "      <td>11.000000</td>\n",
       "      <td>12.000000</td>\n",
       "      <td>13.000000</td>\n",
       "      <td>14.000000</td>\n",
       "      <td>1.000000</td>\n",
       "    </tr>\n",
       "  </tbody>\n",
       "</table>\n",
       "<p>8 rows × 24 columns</p>\n",
       "</div>"
      ],
      "text/plain": [
       "            loan_id  interest_rate  unpaid_principal_bal      loan_term  \\\n",
       "count  1.160580e+05  116058.000000          1.160580e+05  116058.000000   \n",
       "mean   5.494155e+11       3.868961          2.082262e+05     292.280997   \n",
       "std    2.597560e+11       0.461020          1.146851e+05      89.762415   \n",
       "min    1.000009e+11       2.250000          1.100000e+04      60.000000   \n",
       "25%    3.244656e+11       3.500000          1.200000e+05     180.000000   \n",
       "50%    5.486239e+11       3.875000          1.830000e+05     360.000000   \n",
       "75%    7.743034e+11       4.125000          2.780000e+05     360.000000   \n",
       "max    9.999971e+11       6.750000          1.200000e+06     360.000000   \n",
       "\n",
       "       loan_to_value  number_of_borrowers  debt_to_income_ratio  \\\n",
       "count  116058.000000        116058.000000         116058.000000   \n",
       "mean       67.431939             1.593186             30.742293   \n",
       "std        17.291719             0.491242              9.730798   \n",
       "min         6.000000             1.000000              1.000000   \n",
       "25%        57.000000             1.000000             23.000000   \n",
       "50%        72.000000             2.000000             31.000000   \n",
       "75%        80.000000             2.000000             39.000000   \n",
       "max        97.000000             2.000000             64.000000   \n",
       "\n",
       "       borrower_credit_score  insurance_percent  co-borrower_credit_score  \\\n",
       "count          116058.000000      116058.000000             116058.000000   \n",
       "mean              769.926778           2.786288                459.611565   \n",
       "std                42.210706           8.096464                381.946926   \n",
       "min                 0.000000           0.000000                  0.000000   \n",
       "25%               751.000000           0.000000                  0.000000   \n",
       "50%               782.000000           0.000000                740.000000   \n",
       "75%               800.000000           0.000000                791.000000   \n",
       "max               840.000000          40.000000                836.000000   \n",
       "\n",
       "       ...             m4             m5             m6             m7  \\\n",
       "count  ...  116058.000000  116058.000000  116058.000000  116058.000000   \n",
       "mean   ...       0.002180       0.003533       0.003421       0.004162   \n",
       "std    ...       0.062161       0.082638       0.087553       0.100961   \n",
       "min    ...       0.000000       0.000000       0.000000       0.000000   \n",
       "25%    ...       0.000000       0.000000       0.000000       0.000000   \n",
       "50%    ...       0.000000       0.000000       0.000000       0.000000   \n",
       "75%    ...       0.000000       0.000000       0.000000       0.000000   \n",
       "max    ...       6.000000       7.000000       8.000000       9.000000   \n",
       "\n",
       "                  m8             m9            m10            m11  \\\n",
       "count  116058.000000  116058.000000  116058.000000  116058.000000   \n",
       "mean        0.004825       0.005359       0.006617       0.007109   \n",
       "std         0.113128       0.128242       0.148430       0.162884   \n",
       "min         0.000000       0.000000       0.000000       0.000000   \n",
       "25%         0.000000       0.000000       0.000000       0.000000   \n",
       "50%         0.000000       0.000000       0.000000       0.000000   \n",
       "75%         0.000000       0.000000       0.000000       0.000000   \n",
       "max        10.000000      11.000000      12.000000      13.000000   \n",
       "\n",
       "                 m12            m13  \n",
       "count  116058.000000  116058.000000  \n",
       "mean        0.008065       0.005480  \n",
       "std         0.178128       0.073824  \n",
       "min         0.000000       0.000000  \n",
       "25%         0.000000       0.000000  \n",
       "50%         0.000000       0.000000  \n",
       "75%         0.000000       0.000000  \n",
       "max        14.000000       1.000000  \n",
       "\n",
       "[8 rows x 24 columns]"
      ]
     },
     "execution_count": 4,
     "metadata": {},
     "output_type": "execute_result"
    }
   ],
   "source": [
    "train_data.describe()"
   ]
  },
  {
   "cell_type": "markdown",
   "metadata": {},
   "source": [
    "No empty values. Looks like no outliers too"
   ]
  },
  {
   "cell_type": "code",
   "execution_count": 5,
   "metadata": {},
   "outputs": [
    {
     "name": "stdout",
     "output_type": "stream",
     "text": [
      "(35866, 28)\n",
      "(116058, 29)\n"
     ]
    }
   ],
   "source": [
    "print(test_data.shape)\n",
    "print(train_data.shape)"
   ]
  },
  {
   "cell_type": "code",
   "execution_count": 6,
   "metadata": {},
   "outputs": [
    {
     "data": {
      "text/plain": [
       "loan_id                     0\n",
       "source                      0\n",
       "financial_institution       0\n",
       "interest_rate               0\n",
       "unpaid_principal_bal        0\n",
       "loan_term                   0\n",
       "origination_date            0\n",
       "first_payment_date          0\n",
       "loan_to_value               0\n",
       "number_of_borrowers         0\n",
       "debt_to_income_ratio        0\n",
       "borrower_credit_score       0\n",
       "loan_purpose                0\n",
       "insurance_percent           0\n",
       "co-borrower_credit_score    0\n",
       "insurance_type              0\n",
       "m1                          0\n",
       "m2                          0\n",
       "m3                          0\n",
       "m4                          0\n",
       "m5                          0\n",
       "m6                          0\n",
       "m7                          0\n",
       "m8                          0\n",
       "m9                          0\n",
       "m10                         0\n",
       "m11                         0\n",
       "m12                         0\n",
       "dtype: int64"
      ]
     },
     "execution_count": 6,
     "metadata": {},
     "output_type": "execute_result"
    }
   ],
   "source": [
    "train_data.isnull().sum()\n",
    "test_data.isnull().sum()"
   ]
  },
  {
   "cell_type": "code",
   "execution_count": 7,
   "metadata": {},
   "outputs": [
    {
     "name": "stdout",
     "output_type": "stream",
     "text": [
      "0    115422\n",
      "1       636\n",
      "Name: m13, dtype: int64\n"
     ]
    }
   ],
   "source": [
    "#Finding the distribution between the 2 classes\n",
    "print(train_data.m13.value_counts())"
   ]
  },
  {
   "cell_type": "markdown",
   "metadata": {},
   "source": [
    "the given data is a highly inbalanced data, with more training examples for 0 - non-delinquent than 1-delinquent. only .54% samples are for delinquent"
   ]
  },
  {
   "cell_type": "code",
   "execution_count": 8,
   "metadata": {},
   "outputs": [],
   "source": [
    "y_train_labels = train_data['m13']"
   ]
  },
  {
   "cell_type": "code",
   "execution_count": 9,
   "metadata": {},
   "outputs": [],
   "source": [
    "#Merge train and test data and dropping loan_id\n",
    "data = train_data.append([test_data],sort=True)\n",
    "data  = data.drop(['loan_id','m13'],axis=1)"
   ]
  },
  {
   "cell_type": "code",
   "execution_count": 10,
   "metadata": {},
   "outputs": [
    {
     "name": "stdout",
     "output_type": "stream",
     "text": [
      "(151924, 27)\n"
     ]
    }
   ],
   "source": [
    "print(data.shape)"
   ]
  },
  {
   "cell_type": "code",
   "execution_count": 11,
   "metadata": {},
   "outputs": [
    {
     "data": {
      "text/plain": [
       "<matplotlib.axes._subplots.AxesSubplot at 0x23fc6b8a828>"
      ]
     },
     "execution_count": 11,
     "metadata": {},
     "output_type": "execute_result"
    },
    {
     "data": {
      "image/png": "[encoded data removed]",
      "text/plain": [
       "<Figure size 432x288 with 1 Axes>"
      ]
     },
     "metadata": {
      "needs_background": "light"
     },
     "output_type": "display_data"
    }
   ],
   "source": [
    "#Visualize Categorical Variables\n",
    "test_data['source'].value_counts().plot.bar(title='source')"
   ]
  },
  {
   "cell_type": "code",
   "execution_count": 12,
   "metadata": {},
   "outputs": [
    {
     "data": {
      "text/plain": [
       "<matplotlib.axes._subplots.AxesSubplot at 0x23fc6d6f5f8>"
      ]
     },
     "execution_count": 12,
     "metadata": {},
     "output_type": "execute_result"
    },
    {
     "data": {
      "image/png": "[encoded data removed]",
      "text/plain": [
       "<Figure size 432x288 with 1 Axes>"
      ]
     },
     "metadata": {
      "needs_background": "light"
     },
     "output_type": "display_data"
    }
   ],
   "source": [
    "train_data['source'].value_counts().plot.bar(title='source')"
   ]
  },
  {
   "cell_type": "code",
   "execution_count": 13,
   "metadata": {},
   "outputs": [
    {
     "data": {
      "text/plain": [
       "<matplotlib.axes._subplots.AxesSubplot at 0x23fc6d55978>"
      ]
     },
     "execution_count": 13,
     "metadata": {},
     "output_type": "execute_result"
    },
    {
     "data": {
      "image/png": "[encoded data removed]",
      "text/plain": [
       "<Figure size 432x288 with 1 Axes>"
      ]
     },
     "metadata": {
      "needs_background": "light"
     },
     "output_type": "display_data"
    }
   ],
   "source": [
    "test_data['financial_institution'].value_counts().plot.bar(title='Financial Institution')"
   ]
  },
  {
   "cell_type": "code",
   "execution_count": 14,
   "metadata": {},
   "outputs": [
    {
     "data": {
      "text/plain": [
       "<matplotlib.axes._subplots.AxesSubplot at 0x23fc6f010b8>"
      ]
     },
     "execution_count": 14,
     "metadata": {},
     "output_type": "execute_result"
    },
    {
     "data": {
      "image/png": "[encoded data removed]",
      "text/plain": [
       "<Figure size 432x288 with 1 Axes>"
      ]
     },
     "metadata": {
      "needs_background": "light"
     },
     "output_type": "display_data"
    }
   ],
   "source": [
    "train_data['financial_institution'].value_counts().plot.bar(title='Financial Institution')"
   ]
  },
  {
   "cell_type": "code",
   "execution_count": 15,
   "metadata": {},
   "outputs": [
    {
     "data": {
      "text/plain": [
       "<matplotlib.axes._subplots.AxesSubplot at 0x23fc6fa1e10>"
      ]
     },
     "execution_count": 15,
     "metadata": {},
     "output_type": "execute_result"
    },
    {
     "data": {
      "image/png": "[encoded data removed]",
      "text/plain": [
       "<Figure size 432x288 with 1 Axes>"
      ]
     },
     "metadata": {
      "needs_background": "light"
     },
     "output_type": "display_data"
    }
   ],
   "source": [
    "test_data['loan_purpose'].value_counts().plot.bar(title='Loan Purpose')"
   ]
  },
  {
   "cell_type": "code",
   "execution_count": 16,
   "metadata": {},
   "outputs": [
    {
     "data": {
      "text/plain": [
       "<matplotlib.axes._subplots.AxesSubplot at 0x23fc70056a0>"
      ]
     },
     "execution_count": 16,
     "metadata": {},
     "output_type": "execute_result"
    },
    {
     "data": {
      "image/png": "[encoded data removed]",
      "text/plain": [
       "<Figure size 432x288 with 1 Axes>"
      ]
     },
     "metadata": {
      "needs_background": "light"
     },
     "output_type": "display_data"
    }
   ],
   "source": [
    "train_data['loan_purpose'].value_counts().plot.bar(title='Loan Purpose')"
   ]
  },
  {
   "cell_type": "markdown",
   "metadata": {},
   "source": [
    "Distribution of the categorical data source,financial_institution, loan_purpose seems to be fine between the train and test data"
   ]
  },
  {
   "cell_type": "code",
   "execution_count": 17,
   "metadata": {},
   "outputs": [
    {
     "data": {
      "text/plain": [
       "<matplotlib.axes._subplots.AxesSubplot at 0x23fc7062dd8>"
      ]
     },
     "execution_count": 17,
     "metadata": {},
     "output_type": "execute_result"
    },
    {
     "data": {
      "image/png": "[encoded data removed]",
      "text/plain": [
       "<Figure size 432x288 with 1 Axes>"
      ]
     },
     "metadata": {
      "needs_background": "light"
     },
     "output_type": "display_data"
    }
   ],
   "source": [
    "sns.distplot(data['interest_rate'])"
   ]
  },
  {
   "cell_type": "markdown",
   "metadata": {},
   "source": [
    "interest_rate is normally distributed"
   ]
  },
  {
   "cell_type": "code",
   "execution_count": 18,
   "metadata": {},
   "outputs": [
    {
     "data": {
      "text/plain": [
       "<matplotlib.axes._subplots.AxesSubplot at 0x23fc7059320>"
      ]
     },
     "execution_count": 18,
     "metadata": {},
     "output_type": "execute_result"
    },
    {
     "data": {
      "image/png": "[encoded data removed]",
      "text/plain": [
       "<Figure size 432x288 with 1 Axes>"
      ]
     },
     "metadata": {
      "needs_background": "light"
     },
     "output_type": "display_data"
    }
   ],
   "source": [
    "sns.distplot(data['loan_term'])"
   ]
  },
  {
   "cell_type": "code",
   "execution_count": 19,
   "metadata": {},
   "outputs": [
    {
     "data": {
      "text/plain": [
       "<matplotlib.axes._subplots.AxesSubplot at 0x23fc720aa20>"
      ]
     },
     "execution_count": 19,
     "metadata": {},
     "output_type": "execute_result"
    },
    {
     "data": {
      "image/png": "[encoded data removed]",
      "text/plain": [
       "<Figure size 432x288 with 1 Axes>"
      ]
     },
     "metadata": {
      "needs_background": "light"
     },
     "output_type": "display_data"
    }
   ],
   "source": [
    "sns.distplot(train_data['loan_term'])"
   ]
  },
  {
   "cell_type": "code",
   "execution_count": 20,
   "metadata": {},
   "outputs": [
    {
     "data": {
      "text/plain": [
       "<matplotlib.axes._subplots.AxesSubplot at 0x23fc8134588>"
      ]
     },
     "execution_count": 20,
     "metadata": {},
     "output_type": "execute_result"
    },
    {
     "data": {
      "image/png": "[encoded data removed]",
      "text/plain": [
       "<Figure size 432x288 with 1 Axes>"
      ]
     },
     "metadata": {
      "needs_background": "light"
     },
     "output_type": "display_data"
    }
   ],
   "source": [
    "sns.distplot(train_data['unpaid_principal_bal'])"
   ]
  },
  {
   "cell_type": "code",
   "execution_count": 21,
   "metadata": {},
   "outputs": [
    {
     "data": {
      "text/plain": [
       "<matplotlib.axes._subplots.AxesSubplot at 0x23fc820a320>"
      ]
     },
     "execution_count": 21,
     "metadata": {},
     "output_type": "execute_result"
    },
    {
     "data": {
      "image/png": "[encoded data removed]",
      "text/plain": [
       "<Figure size 432x288 with 1 Axes>"
      ]
     },
     "metadata": {
      "needs_background": "light"
     },
     "output_type": "display_data"
    }
   ],
   "source": [
    "#loan_to_value\n",
    "sns.distplot(train_data['loan_to_value'])"
   ]
  },
  {
   "cell_type": "code",
   "execution_count": 22,
   "metadata": {},
   "outputs": [
    {
     "data": {
      "text/plain": [
       "<matplotlib.axes._subplots.AxesSubplot at 0x23fc82d64a8>"
      ]
     },
     "execution_count": 22,
     "metadata": {},
     "output_type": "execute_result"
    },
    {
     "data": {
      "image/png": "[encoded data removed]",
      "text/plain": [
       "<Figure size 432x288 with 1 Axes>"
      ]
     },
     "metadata": {
      "needs_background": "light"
     },
     "output_type": "display_data"
    }
   ],
   "source": [
    "#debt_to_income_ratio\n",
    "sns.distplot(train_data['debt_to_income_ratio'])"
   ]
  },
  {
   "cell_type": "code",
   "execution_count": 23,
   "metadata": {},
   "outputs": [
    {
     "data": {
      "text/plain": [
       "<matplotlib.axes._subplots.AxesSubplot at 0x23fc82fa588>"
      ]
     },
     "execution_count": 23,
     "metadata": {},
     "output_type": "execute_result"
    },
    {
     "data": {
      "image/png": "[encoded data removed]",
      "text/plain": [
       "<Figure size 432x288 with 1 Axes>"
      ]
     },
     "metadata": {
      "needs_background": "light"
     },
     "output_type": "display_data"
    }
   ],
   "source": [
    "#borrower_credit_score\n",
    "sns.distplot(train_data['borrower_credit_score'])"
   ]
  },
  {
   "cell_type": "code",
   "execution_count": 24,
   "metadata": {},
   "outputs": [
    {
     "data": {
      "text/plain": [
       "<matplotlib.axes._subplots.AxesSubplot at 0x23fc8ee0f98>"
      ]
     },
     "execution_count": 24,
     "metadata": {},
     "output_type": "execute_result"
    },
    {
     "data": {
      "image/png": "[encoded data removed]",
      "text/plain": [
       "<Figure size 432x288 with 1 Axes>"
      ]
     },
     "metadata": {
      "needs_background": "light"
     },
     "output_type": "display_data"
    }
   ],
   "source": [
    "#insurance_percent\n",
    "sns.distplot(train_data['insurance_percent'])"
   ]
  },
  {
   "cell_type": "markdown",
   "metadata": {},
   "source": [
    "lot of borrowers have no insurance coverage for their loans"
   ]
  },
  {
   "cell_type": "code",
   "execution_count": 25,
   "metadata": {},
   "outputs": [
    {
     "data": {
      "text/plain": [
       "<matplotlib.axes._subplots.AxesSubplot at 0x23fc8ffb048>"
      ]
     },
     "execution_count": 25,
     "metadata": {},
     "output_type": "execute_result"
    },
    {
     "data": {
      "image/png": "[encoded data removed]",
      "text/plain": [
       "<Figure size 432x288 with 1 Axes>"
      ]
     },
     "metadata": {
      "needs_background": "light"
     },
     "output_type": "display_data"
    }
   ],
   "source": [
    "#co-borrower_credit_score    \n",
    "sns.distplot(train_data['co-borrower_credit_score'])"
   ]
  },
  {
   "cell_type": "markdown",
   "metadata": {},
   "source": [
    "a lot of co-borrowers have 0 credit score and the next peak is similar to borrower credir score"
   ]
  },
  {
   "cell_type": "code",
   "execution_count": 26,
   "metadata": {},
   "outputs": [
    {
     "data": {
      "text/plain": [
       "<matplotlib.axes._subplots.AxesSubplot at 0x23fc9073ef0>"
      ]
     },
     "execution_count": 26,
     "metadata": {},
     "output_type": "execute_result"
    },
    {
     "data": {
      "image/png": "[encoded data removed]",
      "text/plain": [
       "<Figure size 432x288 with 1 Axes>"
      ]
     },
     "metadata": {
      "needs_background": "light"
     },
     "output_type": "display_data"
    }
   ],
   "source": [
    "#insurance_type\n",
    "train_data['insurance_type'].value_counts().plot.bar(title='insurance type')"
   ]
  },
  {
   "cell_type": "markdown",
   "metadata": {},
   "source": [
    "Almost for all loans the premium is paid by the borrower"
   ]
  },
  {
   "cell_type": "markdown",
   "metadata": {},
   "source": [
    "Hypothesis 1) Borrowers with high credit score are non-delinquents 2) Borrowers + Co-Borrowers with high credit score are non-delinquents 3) If the interest rates are high there is a possibility that the borrower could be a delinquent 4) If the debt_to_income_ratio is high there is a possibility that the borrower could be a delinquent 5) if the loan_to_value_ratio is low there is a possibilty that the borrower could be a delinquent 6) if any values between m1 to m12 is 1 then the borrower could be a delinquent"
   ]
  },
  {
   "cell_type": "code",
   "execution_count": 27,
   "metadata": {},
   "outputs": [
    {
     "data": {
      "text/plain": [
       "<matplotlib.axes._subplots.AxesSubplot at 0x23fc8f42080>"
      ]
     },
     "execution_count": 27,
     "metadata": {},
     "output_type": "execute_result"
    },
    {
     "data": {
      "image/png": "[encoded data removed]",
      "text/plain": [
       "<Figure size 432x288 with 1 Axes>"
      ]
     },
     "metadata": {
      "needs_background": "light"
     },
     "output_type": "display_data"
    }
   ],
   "source": [
    "#source vs m13\n",
    "source = pd.crosstab(train_data['source'],train_data['m13'])\n",
    "source.div(source.sum(1).astype(float),axis =0).plot(kind='bar',stacked=True)"
   ]
  },
  {
   "cell_type": "markdown",
   "metadata": {},
   "source": [
    "Source is not an influencer of delinquency"
   ]
  },
  {
   "cell_type": "code",
   "execution_count": 28,
   "metadata": {},
   "outputs": [
    {
     "data": {
      "text/plain": [
       "<matplotlib.axes._subplots.AxesSubplot at 0x23fc916e860>"
      ]
     },
     "execution_count": 28,
     "metadata": {},
     "output_type": "execute_result"
    },
    {
     "data": {
      "image/png": "[encoded data removed]",
      "text/plain": [
       "<Figure size 432x288 with 1 Axes>"
      ]
     },
     "metadata": {
      "needs_background": "light"
     },
     "output_type": "display_data"
    }
   ],
   "source": [
    "#financial institution vs m13\n",
    "finst = pd.crosstab(train_data['financial_institution'],train_data['m13'])\n",
    "finst.div(finst.sum(1).astype(float),axis =0).plot(kind='bar',stacked=True)"
   ]
  },
  {
   "cell_type": "markdown",
   "metadata": {},
   "source": [
    "Financial institution is not an influencer of delinquency"
   ]
  },
  {
   "cell_type": "code",
   "execution_count": 29,
   "metadata": {},
   "outputs": [
    {
     "data": {
      "text/plain": [
       "<matplotlib.axes._subplots.AxesSubplot at 0x23fc923e0f0>"
      ]
     },
     "execution_count": 29,
     "metadata": {},
     "output_type": "execute_result"
    },
    {
     "data": {
      "image/png": "[encoded data removed]",
      "text/plain": [
       "<Figure size 432x288 with 1 Axes>"
      ]
     },
     "metadata": {
      "needs_background": "light"
     },
     "output_type": "display_data"
    }
   ],
   "source": [
    "#loan_purpose vs m13\n",
    "loan_pur = pd.crosstab(train_data['loan_purpose'],train_data['m13'])\n",
    "loan_pur.div(loan_pur.sum(1).astype(float),axis =0).plot(kind='bar',stacked=True)"
   ]
  },
  {
   "cell_type": "markdown",
   "metadata": {},
   "source": [
    "loan_purpose is not an influencer of delinquency"
   ]
  },
  {
   "cell_type": "code",
   "execution_count": 30,
   "metadata": {},
   "outputs": [
    {
     "data": {
      "text/plain": [
       "m13  number_of_borrowers\n",
       "0    2.0                    68635\n",
       "     1.0                    46787\n",
       "1    1.0                      427\n",
       "     2.0                      209\n",
       "Name: number_of_borrowers, dtype: int64"
      ]
     },
     "execution_count": 30,
     "metadata": {},
     "output_type": "execute_result"
    }
   ],
   "source": [
    "#number_of_borrowers\n",
    "train_data.groupby('m13')['number_of_borrowers'].value_counts()"
   ]
  },
  {
   "cell_type": "code",
   "execution_count": 31,
   "metadata": {},
   "outputs": [
    {
     "data": {
      "image/png": "[encoded data removed]",
      "text/plain": [
       "<Figure size 432x288 with 1 Axes>"
      ]
     },
     "metadata": {
      "needs_background": "light"
     },
     "output_type": "display_data"
    }
   ],
   "source": [
    "rate_bins=[0,2.5,3.5,4.5,5.5,6.5,7.5]\n",
    "train_data['rate_bins'] = pd.cut(train_data['interest_rate'],rate_bins,labels=['0_rate','2.5_rate','3.5_rate','4.5_rate','5.5_rate','6.5_rate'])\n",
    "rate = pd.crosstab(train_data['rate_bins'],train_data['m13'])\n",
    "rate.div(rate.sum(1).astype(float),axis=0).plot(kind='bar',stacked=True)\n",
    "test_data['rate_bins'] = pd.cut(test_data['interest_rate'],rate_bins,labels=['0_rate','2.5_rate','3.5_rate','4.5_rate','5.5_rate','6.5_rate'])"
   ]
  },
  {
   "cell_type": "markdown",
   "metadata": {},
   "source": [
    "Higher the rate, there are more delinquents"
   ]
  },
  {
   "cell_type": "code",
   "execution_count": 32,
   "metadata": {},
   "outputs": [
    {
     "data": {
      "image/png": "[encoded data removed]",
      "text/plain": [
       "<Figure size 432x288 with 1 Axes>"
      ]
     },
     "metadata": {
      "needs_background": "light"
     },
     "output_type": "display_data"
    }
   ],
   "source": [
    "borrower_cs_bin = [0,750,800,850]\n",
    "train_data['borrower_cs_bin'] = pd.cut(train_data['borrower_credit_score'],borrower_cs_bin,labels=['750_cs','800_cs','850_cs'])\n",
    "borrower_cs = pd.crosstab(train_data['borrower_cs_bin'],train_data['m13'])\n",
    "borrower_cs.div(borrower_cs.sum(1).astype(float),axis=0).plot(kind='bar',stacked=True)\n",
    "test_data['borrower_cs_bin'] = pd.cut(test_data['borrower_credit_score'],borrower_cs_bin,labels=['750_cs','800_cs','850_cs'])"
   ]
  },
  {
   "cell_type": "markdown",
   "metadata": {},
   "source": [
    "Higher credit score means they are non-delinquent"
   ]
  },
  {
   "cell_type": "code",
   "execution_count": 33,
   "metadata": {},
   "outputs": [
    {
     "data": {
      "image/png": "[encoded data removed]",
      "text/plain": [
       "<Figure size 432x288 with 1 Axes>"
      ]
     },
     "metadata": {
      "needs_background": "light"
     },
     "output_type": "display_data"
    }
   ],
   "source": [
    "co_borrower_cs_bin = [0,750,800,850]\n",
    "train_data['co_borrower_cs_bin'] = pd.cut(train_data['co-borrower_credit_score'],co_borrower_cs_bin,labels=['750_cs','800_cs','850_cs'])\n",
    "co_borrower_cs = pd.crosstab(train_data['co_borrower_cs_bin'],train_data['m13'])\n",
    "co_borrower_cs.div(co_borrower_cs.sum(1).astype(float),axis=0).plot(kind='bar',stacked=True)\n",
    "test_data['co_borrower_cs_bin'] = pd.cut(test_data['co-borrower_credit_score'],co_borrower_cs_bin,labels=['750_cs','800_cs','850_cs'])"
   ]
  },
  {
   "cell_type": "markdown",
   "metadata": {},
   "source": [
    "Higher credit score of co-borrower chances of non-delinquency is more"
   ]
  },
  {
   "cell_type": "code",
   "execution_count": 34,
   "metadata": {},
   "outputs": [
    {
     "data": {
      "image/png": "[encoded data removed]",
      "text/plain": [
       "<Figure size 432x288 with 1 Axes>"
      ]
     },
     "metadata": {
      "needs_background": "light"
     },
     "output_type": "display_data"
    }
   ],
   "source": [
    "debt_to_income_ratio_bins=[25,35,45,55,65]\n",
    "train_data['debt_to_income_ratio_bins'] = pd.cut(train_data['debt_to_income_ratio'],debt_to_income_ratio_bins,labels=['25','35','45','55'])\n",
    "debt_income = pd.crosstab(train_data['debt_to_income_ratio_bins'],train_data['m13'])\n",
    "debt_income.div(debt_income.sum(1).astype(float),axis=0).plot(kind='bar',stacked=True)\n",
    "test_data['debt_to_income_ratio_bins'] = pd.cut(test_data['debt_to_income_ratio'],debt_to_income_ratio_bins,labels=['25','35','45','55'])"
   ]
  },
  {
   "cell_type": "markdown",
   "metadata": {},
   "source": [
    "higher the debt_to_income ratio more the delinquency"
   ]
  },
  {
   "cell_type": "code",
   "execution_count": 35,
   "metadata": {},
   "outputs": [
    {
     "data": {
      "image/png": "[encoded data removed]",
      "text/plain": [
       "<Figure size 432x288 with 1 Axes>"
      ]
     },
     "metadata": {
      "needs_background": "light"
     },
     "output_type": "display_data"
    }
   ],
   "source": [
    "loan_to_value_ratio_bins=[50,60,70,80,90,100]\n",
    "train_data['loan_to_value_ratio_bins'] = pd.cut(train_data['loan_to_value'],loan_to_value_ratio_bins,labels=['50','60','70','80','90'])\n",
    "loan_value = pd.crosstab(train_data['loan_to_value_ratio_bins'],train_data['m13'])\n",
    "loan_value.div(loan_value.sum(1).astype(float),axis=0).plot(kind='bar',stacked=True)\n",
    "test_data['loan_to_value_ratio_bins'] = pd.cut(test_data['loan_to_value'],loan_to_value_ratio_bins,labels=['50','60','70','80','90'])"
   ]
  },
  {
   "cell_type": "markdown",
   "metadata": {},
   "source": [
    "Higher the loan_to_value higher the delinquency"
   ]
  },
  {
   "cell_type": "code",
   "execution_count": 36,
   "metadata": {},
   "outputs": [],
   "source": [
    "train_data= train_data.drop(['rate_bins','borrower_cs_bin','co_borrower_cs_bin','debt_to_income_ratio_bins','loan_to_value_ratio_bins'],axis=1)\n",
    "\n"
   ]
  },
  {
   "cell_type": "code",
   "execution_count": 37,
   "metadata": {},
   "outputs": [],
   "source": [
    "test_data= test_data.drop(['rate_bins','borrower_cs_bin','co_borrower_cs_bin','debt_to_income_ratio_bins','loan_to_value_ratio_bins'],axis=1)"
   ]
  },
  {
   "cell_type": "code",
   "execution_count": 38,
   "metadata": {},
   "outputs": [],
   "source": [
    "train = train_data.drop(['loan_id','m13'],axis=1)\n",
    "test = test_data.drop(['loan_id'],axis=1)"
   ]
  },
  {
   "cell_type": "code",
   "execution_count": 39,
   "metadata": {},
   "outputs": [
    {
     "name": "stdout",
     "output_type": "stream",
     "text": [
      "<class 'pandas.core.frame.DataFrame'>\n",
      "RangeIndex: 116058 entries, 0 to 116057\n",
      "Data columns (total 27 columns):\n",
      "source                      116058 non-null object\n",
      "financial_institution       116058 non-null object\n",
      "interest_rate               116058 non-null float64\n",
      "unpaid_principal_bal        116058 non-null int64\n",
      "loan_term                   116058 non-null int64\n",
      "origination_date            116058 non-null object\n",
      "first_payment_date          116058 non-null object\n",
      "loan_to_value               116058 non-null int64\n",
      "number_of_borrowers         116058 non-null float64\n",
      "debt_to_income_ratio        116058 non-null float64\n",
      "borrower_credit_score       116058 non-null float64\n",
      "loan_purpose                116058 non-null object\n",
      "insurance_percent           116058 non-null float64\n",
      "co-borrower_credit_score    116058 non-null float64\n",
      "insurance_type              116058 non-null float64\n",
      "m1                          116058 non-null int64\n",
      "m2                          116058 non-null int64\n",
      "m3                          116058 non-null int64\n",
      "m4                          116058 non-null int64\n",
      "m5                          116058 non-null int64\n",
      "m6                          116058 non-null int64\n",
      "m7                          116058 non-null int64\n",
      "m8                          116058 non-null int64\n",
      "m9                          116058 non-null int64\n",
      "m10                         116058 non-null int64\n",
      "m11                         116058 non-null int64\n",
      "m12                         116058 non-null int64\n",
      "dtypes: float64(7), int64(15), object(5)\n",
      "memory usage: 23.9+ MB\n"
     ]
    }
   ],
   "source": [
    "train.info()"
   ]
  },
  {
   "cell_type": "code",
   "execution_count": 40,
   "metadata": {},
   "outputs": [],
   "source": [
    "#Combine credit score as one value\n",
    "train['total_credit_score'] = train_data['borrower_credit_score'] + train_data['co-borrower_credit_score']"
   ]
  },
  {
   "cell_type": "code",
   "execution_count": 41,
   "metadata": {},
   "outputs": [],
   "source": [
    "train.drop(['borrower_credit_score','co-borrower_credit_score'],axis=1,inplace=True)\n"
   ]
  },
  {
   "cell_type": "code",
   "execution_count": 42,
   "metadata": {},
   "outputs": [],
   "source": [
    "test['total_credit_score'] = test_data['borrower_credit_score'] + test_data['co-borrower_credit_score']\n",
    "test.drop(['borrower_credit_score','co-borrower_credit_score'],axis=1,inplace=True)"
   ]
  },
  {
   "cell_type": "code",
   "execution_count": 43,
   "metadata": {},
   "outputs": [],
   "source": [
    "#Convert Categorical variables\n",
    "#Using Label encoder for financial institutions, one hot encoding for source,loan purpose"
   ]
  },
  {
   "cell_type": "code",
   "execution_count": 44,
   "metadata": {},
   "outputs": [],
   "source": [
    "from sklearn.preprocessing import LabelEncoder\n",
    "le = LabelEncoder()\n",
    "train['financial_institution'] = le.fit_transform(train['financial_institution'])"
   ]
  },
  {
   "cell_type": "code",
   "execution_count": 45,
   "metadata": {},
   "outputs": [
    {
     "data": {
      "text/html": [
       "<div>\n",
       "<style scoped>\n",
       "    .dataframe tbody tr th:only-of-type {\n",
       "        vertical-align: middle;\n",
       "    }\n",
       "\n",
       "    .dataframe tbody tr th {\n",
       "        vertical-align: top;\n",
       "    }\n",
       "\n",
       "    .dataframe thead th {\n",
       "        text-align: right;\n",
       "    }\n",
       "</style>\n",
       "<table border=\"1\" class=\"dataframe\">\n",
       "  <thead>\n",
       "    <tr style=\"text-align: right;\">\n",
       "      <th></th>\n",
       "      <th>source</th>\n",
       "      <th>financial_institution</th>\n",
       "      <th>interest_rate</th>\n",
       "      <th>unpaid_principal_bal</th>\n",
       "      <th>loan_term</th>\n",
       "      <th>origination_date</th>\n",
       "      <th>first_payment_date</th>\n",
       "      <th>loan_to_value</th>\n",
       "      <th>number_of_borrowers</th>\n",
       "      <th>debt_to_income_ratio</th>\n",
       "      <th>...</th>\n",
       "      <th>m4</th>\n",
       "      <th>m5</th>\n",
       "      <th>m6</th>\n",
       "      <th>m7</th>\n",
       "      <th>m8</th>\n",
       "      <th>m9</th>\n",
       "      <th>m10</th>\n",
       "      <th>m11</th>\n",
       "      <th>m12</th>\n",
       "      <th>total_credit_score</th>\n",
       "    </tr>\n",
       "  </thead>\n",
       "  <tbody>\n",
       "    <tr>\n",
       "      <th>0</th>\n",
       "      <td>Z</td>\n",
       "      <td>18</td>\n",
       "      <td>4.250</td>\n",
       "      <td>214000</td>\n",
       "      <td>360</td>\n",
       "      <td>2012-03-01</td>\n",
       "      <td>05/2012</td>\n",
       "      <td>95</td>\n",
       "      <td>1.0</td>\n",
       "      <td>22.0</td>\n",
       "      <td>...</td>\n",
       "      <td>0</td>\n",
       "      <td>0</td>\n",
       "      <td>0</td>\n",
       "      <td>1</td>\n",
       "      <td>0</td>\n",
       "      <td>0</td>\n",
       "      <td>0</td>\n",
       "      <td>0</td>\n",
       "      <td>0</td>\n",
       "      <td>694.0</td>\n",
       "    </tr>\n",
       "    <tr>\n",
       "      <th>1</th>\n",
       "      <td>Y</td>\n",
       "      <td>15</td>\n",
       "      <td>4.875</td>\n",
       "      <td>144000</td>\n",
       "      <td>360</td>\n",
       "      <td>2012-01-01</td>\n",
       "      <td>03/2012</td>\n",
       "      <td>72</td>\n",
       "      <td>1.0</td>\n",
       "      <td>44.0</td>\n",
       "      <td>...</td>\n",
       "      <td>0</td>\n",
       "      <td>0</td>\n",
       "      <td>0</td>\n",
       "      <td>0</td>\n",
       "      <td>0</td>\n",
       "      <td>0</td>\n",
       "      <td>0</td>\n",
       "      <td>1</td>\n",
       "      <td>0</td>\n",
       "      <td>697.0</td>\n",
       "    </tr>\n",
       "    <tr>\n",
       "      <th>2</th>\n",
       "      <td>Z</td>\n",
       "      <td>17</td>\n",
       "      <td>3.250</td>\n",
       "      <td>366000</td>\n",
       "      <td>180</td>\n",
       "      <td>2012-01-01</td>\n",
       "      <td>03/2012</td>\n",
       "      <td>49</td>\n",
       "      <td>1.0</td>\n",
       "      <td>33.0</td>\n",
       "      <td>...</td>\n",
       "      <td>0</td>\n",
       "      <td>0</td>\n",
       "      <td>0</td>\n",
       "      <td>0</td>\n",
       "      <td>0</td>\n",
       "      <td>0</td>\n",
       "      <td>0</td>\n",
       "      <td>0</td>\n",
       "      <td>0</td>\n",
       "      <td>780.0</td>\n",
       "    </tr>\n",
       "    <tr>\n",
       "      <th>3</th>\n",
       "      <td>X</td>\n",
       "      <td>8</td>\n",
       "      <td>4.750</td>\n",
       "      <td>135000</td>\n",
       "      <td>360</td>\n",
       "      <td>2012-02-01</td>\n",
       "      <td>04/2012</td>\n",
       "      <td>46</td>\n",
       "      <td>2.0</td>\n",
       "      <td>44.0</td>\n",
       "      <td>...</td>\n",
       "      <td>0</td>\n",
       "      <td>0</td>\n",
       "      <td>0</td>\n",
       "      <td>0</td>\n",
       "      <td>0</td>\n",
       "      <td>1</td>\n",
       "      <td>1</td>\n",
       "      <td>1</td>\n",
       "      <td>1</td>\n",
       "      <td>1271.0</td>\n",
       "    </tr>\n",
       "    <tr>\n",
       "      <th>4</th>\n",
       "      <td>X</td>\n",
       "      <td>8</td>\n",
       "      <td>4.750</td>\n",
       "      <td>124000</td>\n",
       "      <td>360</td>\n",
       "      <td>2012-02-01</td>\n",
       "      <td>04/2012</td>\n",
       "      <td>80</td>\n",
       "      <td>1.0</td>\n",
       "      <td>43.0</td>\n",
       "      <td>...</td>\n",
       "      <td>3</td>\n",
       "      <td>4</td>\n",
       "      <td>5</td>\n",
       "      <td>6</td>\n",
       "      <td>7</td>\n",
       "      <td>8</td>\n",
       "      <td>9</td>\n",
       "      <td>10</td>\n",
       "      <td>11</td>\n",
       "      <td>681.0</td>\n",
       "    </tr>\n",
       "  </tbody>\n",
       "</table>\n",
       "<p>5 rows × 26 columns</p>\n",
       "</div>"
      ],
      "text/plain": [
       "  source  financial_institution  interest_rate  unpaid_principal_bal  \\\n",
       "0      Z                     18          4.250                214000   \n",
       "1      Y                     15          4.875                144000   \n",
       "2      Z                     17          3.250                366000   \n",
       "3      X                      8          4.750                135000   \n",
       "4      X                      8          4.750                124000   \n",
       "\n",
       "   loan_term origination_date first_payment_date  loan_to_value  \\\n",
       "0        360       2012-03-01            05/2012             95   \n",
       "1        360       2012-01-01            03/2012             72   \n",
       "2        180       2012-01-01            03/2012             49   \n",
       "3        360       2012-02-01            04/2012             46   \n",
       "4        360       2012-02-01            04/2012             80   \n",
       "\n",
       "   number_of_borrowers  debt_to_income_ratio  ... m4  m5  m6  m7  m8  m9  m10  \\\n",
       "0                  1.0                  22.0  ...  0   0   0   1   0   0    0   \n",
       "1                  1.0                  44.0  ...  0   0   0   0   0   0    0   \n",
       "2                  1.0                  33.0  ...  0   0   0   0   0   0    0   \n",
       "3                  2.0                  44.0  ...  0   0   0   0   0   1    1   \n",
       "4                  1.0                  43.0  ...  3   4   5   6   7   8    9   \n",
       "\n",
       "   m11  m12  total_credit_score  \n",
       "0    0    0               694.0  \n",
       "1    1    0               697.0  \n",
       "2    0    0               780.0  \n",
       "3    1    1              1271.0  \n",
       "4   10   11               681.0  \n",
       "\n",
       "[5 rows x 26 columns]"
      ]
     },
     "execution_count": 45,
     "metadata": {},
     "output_type": "execute_result"
    }
   ],
   "source": [
    "train.head()"
   ]
  },
  {
   "cell_type": "code",
   "execution_count": 46,
   "metadata": {},
   "outputs": [],
   "source": [
    "test['financial_institution'] = le.fit_transform(test['financial_institution'])"
   ]
  },
  {
   "cell_type": "code",
   "execution_count": 47,
   "metadata": {},
   "outputs": [],
   "source": [
    "source_ohe = pd.get_dummies(train['source'])"
   ]
  },
  {
   "cell_type": "code",
   "execution_count": 48,
   "metadata": {},
   "outputs": [],
   "source": [
    "train = pd.concat([train,source_ohe],axis=1)"
   ]
  },
  {
   "cell_type": "code",
   "execution_count": 49,
   "metadata": {},
   "outputs": [],
   "source": [
    "source_ohe_test = pd.get_dummies(test['source'])\n",
    "test = pd.concat([test,source_ohe_test],axis=1)"
   ]
  },
  {
   "cell_type": "code",
   "execution_count": 50,
   "metadata": {},
   "outputs": [],
   "source": [
    "loanP = pd.get_dummies(train['loan_purpose'])\n",
    "train = pd.concat([train,loanP],axis=1)"
   ]
  },
  {
   "cell_type": "code",
   "execution_count": 51,
   "metadata": {},
   "outputs": [],
   "source": [
    "loanP_test = pd.get_dummies(test['loan_purpose'])\n",
    "test = pd.concat([test,loanP_test],axis=1)"
   ]
  },
  {
   "cell_type": "code",
   "execution_count": 52,
   "metadata": {},
   "outputs": [],
   "source": [
    "train.drop(['source','loan_purpose'],axis=1,inplace=True)\n",
    "test.drop(['source','loan_purpose'],axis=1,inplace=True)"
   ]
  },
  {
   "cell_type": "code",
   "execution_count": 53,
   "metadata": {},
   "outputs": [],
   "source": [
    "#Time Being will drop date and then come back to work on it\n",
    "train.drop(['origination_date','first_payment_date'],axis=1,inplace=True)\n",
    "test.drop(['origination_date','first_payment_date'],axis=1,inplace=True)"
   ]
  },
  {
   "cell_type": "code",
   "execution_count": 54,
   "metadata": {},
   "outputs": [],
   "source": [
    "#Using RandomForestClassifier as it has inbuilt capabilities to handle unbalnced data"
   ]
  },
  {
   "cell_type": "code",
   "execution_count": 55,
   "metadata": {},
   "outputs": [],
   "source": [
    "from sklearn.ensemble import RandomForestClassifier\n",
    "#Since the data set is unbalanced need to use stratified sampling\n",
    "from sklearn.model_selection import StratifiedShuffleSplit\n",
    "from sklearn.metrics import f1_score"
   ]
  },
  {
   "cell_type": "code",
   "execution_count": 56,
   "metadata": {},
   "outputs": [
    {
     "name": "stdout",
     "output_type": "stream",
     "text": [
      "1\n",
      "[92715 64343 78977 ... 92604 78973  6589] [36170 15484 99176 ... 56551 48319 44917]\n",
      "2\n",
      "[65558 89988 91413 ... 62745 55359 32620] [14456 10711 86044 ... 49081 44397 17115]\n",
      "3\n",
      "[ 72569  74578 104748 ...  27942  53815  74256] [112805  29230  40252 ...  21125  72319  91318]\n",
      "4\n",
      "[ 80913  22241  20428 ... 105211  97730  76796] [68124 36035 29541 ... 15717 86031  4027]\n",
      "5\n",
      "[ 38991  19765  18048 ... 103482  85356  73107] [34205 84264 12252 ... 96958 93321 65001]\n",
      "6\n",
      "[53418 97133 55094 ... 10352 37543 25911] [108726  49872  74313 ...  44817  49648  32721]\n",
      "7\n",
      "[37338 38093 92941 ... 92803  1525 82114] [ 2046  1000 16989 ... 53937 66169 15187]\n",
      "8\n",
      "[ 26861 103454 102537 ...  49098 114618   2328] [ 75661  25674  64277 ...  20557  45143 108290]\n",
      "9\n",
      "[112235  13340 105391 ...  54036  41932  62719] [113567  29194  53460 ...  88802  69037  89079]\n",
      "10\n",
      "[111066  30621  97145 ...  98190 100619  55566] [ 69860  91122 116056 ...  14773  63342  37395]\n",
      "F1-score 0.45693067155196204\n"
     ]
    }
   ],
   "source": [
    "model = RandomForestClassifier(n_estimators=100,criterion='entropy',class_weight=\"balanced\")\n",
    "sss = StratifiedShuffleSplit(n_splits=10)\n",
    "f1_scores = []\n",
    "i=0\n",
    "for train_index, val_index in sss.split(train, y_train_labels):\n",
    "    i=i+1\n",
    "    print(i)\n",
    "    print(train_index,val_index)\n",
    "    #print(train.iloc[train_index])\n",
    "    x_train, x_val = train.iloc[train_index], train.iloc[val_index]\n",
    "    #x_train, x_val = train_new[train_index], train_new[val_index]\n",
    "    y_train, y_val = y_train_labels.iloc[train_index], y_train_labels.iloc[val_index]\n",
    "    model.fit(x_train, y_train)\n",
    "    y_pred = model.predict(x_val)\n",
    "    f1_scores.append(f1_score(y_val, y_pred))\n",
    "\n",
    "print('F1-score', np.mean(f1_scores))\n",
    "#pred_test = model.predict(test)\n",
    "# pred_test = model.predict(test)\n",
    "\n",
    "# submission = pd.DataFrame({\n",
    "#             \"loan_id\": test_data['loan_id'],\n",
    "#             \"m13\": pred_test\n",
    "#         })\n",
    "# submission.to_csv('C:/Python/IndiaML/data/submission.csv', index=False)"
   ]
  },
  {
   "cell_type": "code",
   "execution_count": 57,
   "metadata": {},
   "outputs": [
    {
     "data": {
      "text/plain": [
       "<matplotlib.axes._subplots.AxesSubplot at 0x23fc9cabf28>"
      ]
     },
     "execution_count": 57,
     "metadata": {},
     "output_type": "execute_result"
    },
    {
     "data": {
      "image/png": "[encoded data removed]",
      "text/plain": [
       "<Figure size 720x2016 with 1 Axes>"
      ]
     },
     "metadata": {
      "needs_background": "light"
     },
     "output_type": "display_data"
    }
   ],
   "source": [
    "importances = pd.Series(model.feature_importances_,index=train.columns)\n",
    "importances.plot(kind='barh',figsize=(10,28))"
   ]
  },
  {
   "cell_type": "code",
   "execution_count": 58,
   "metadata": {},
   "outputs": [],
   "source": [
    "#Using different sampling techniques to balance the classes\n"
   ]
  },
  {
   "cell_type": "code",
   "execution_count": 59,
   "metadata": {},
   "outputs": [
    {
     "name": "stderr",
     "output_type": "stream",
     "text": [
      "Using TensorFlow backend.\n"
     ]
    }
   ],
   "source": [
    "from sklearn.pipeline import make_pipeline\n",
    "from imblearn.over_sampling import RandomOverSampler\n",
    "from imblearn.pipeline import make_pipeline as imb_make_pipeline\n",
    "from imblearn.under_sampling import RandomUnderSampler\n",
    "from imblearn.over_sampling import SMOTE\n",
    "from imblearn.over_sampling import ADASYN "
   ]
  },
  {
   "cell_type": "markdown",
   "metadata": {},
   "source": [
    "Random Undersampling aims to balance class distribution by randomly eliminating majority class examples. This is done until the majority and minority class instances are balanced out."
   ]
  },
  {
   "cell_type": "code",
   "execution_count": 60,
   "metadata": {},
   "outputs": [],
   "source": [
    "from sklearn.preprocessing import RobustScaler\n",
    "from sklearn.model_selection import train_test_split, cross_val_score,cross_val_predict"
   ]
  },
  {
   "cell_type": "code",
   "execution_count": 61,
   "metadata": {},
   "outputs": [
    {
     "name": "stdout",
     "output_type": "stream",
     "text": [
      "0.07448303920425074\n"
     ]
    }
   ],
   "source": [
    "# Build model with undersampling\n",
    "\n",
    "pipe_undersample = imb_make_pipeline(RobustScaler(),RandomUnderSampler(), model)\n",
    "scores = cross_val_score(pipe_undersample,\n",
    "                         train, y_train_labels,\n",
    "                         scoring=\"f1\", cv=10)\n",
    "print(scores.mean())"
   ]
  },
  {
   "cell_type": "markdown",
   "metadata": {},
   "source": [
    "Random Over-Sampling increases the number of instances in the minority class by randomly replicating them in order to present a higher representation of the minority class in the sample."
   ]
  },
  {
   "cell_type": "code",
   "execution_count": 62,
   "metadata": {},
   "outputs": [
    {
     "name": "stdout",
     "output_type": "stream",
     "text": [
      "0.49192498619205904\n"
     ]
    }
   ],
   "source": [
    "# Build model with oversampling\n",
    "pipe_oversample = imb_make_pipeline(RobustScaler(),RandomOverSampler(), model)\n",
    "scores = cross_val_score(pipe_oversample,\n",
    "                         train, y_train_labels,\n",
    "                         scoring=\"f1\", cv=10)\n",
    "print(scores.mean())"
   ]
  },
  {
   "cell_type": "markdown",
   "metadata": {},
   "source": [
    "Synthetic Minority Over-sampling Technique"
   ]
  },
  {
   "cell_type": "code",
   "execution_count": 63,
   "metadata": {},
   "outputs": [
    {
     "name": "stdout",
     "output_type": "stream",
     "text": [
      "0.4844657003837252\n"
     ]
    }
   ],
   "source": [
    "# Build model with SMOTE\n",
    "\n",
    "pipe_smote = imb_make_pipeline(RobustScaler(),SMOTE(), model)\n",
    "scores = cross_val_score(pipe_smote,\n",
    "                         train, y_train_labels,\n",
    "                         scoring=\"f1\", cv=10)\n",
    "print(scores.mean())"
   ]
  },
  {
   "cell_type": "code",
   "execution_count": 64,
   "metadata": {},
   "outputs": [
    {
     "name": "stdout",
     "output_type": "stream",
     "text": [
      "0.48799947810804606\n"
     ]
    }
   ],
   "source": [
    "# Build model with ADASYN (Adaptive Synthetic Sampling)\n",
    "\n",
    "pipe_adasyn = imb_make_pipeline(RobustScaler(),ADASYN(), model)\n",
    "scores = cross_val_score(pipe_adasyn,\n",
    "                         train, y_train_labels,\n",
    "                         scoring=\"f1\", cv=10)\n",
    "print(scores.mean())"
   ]
  },
  {
   "cell_type": "code",
   "execution_count": 65,
   "metadata": {},
   "outputs": [
    {
     "name": "stdout",
     "output_type": "stream",
     "text": [
      "<class 'pandas.core.frame.DataFrame'>\n",
      "RangeIndex: 116058 entries, 0 to 116057\n",
      "Data columns (total 28 columns):\n",
      "financial_institution    116058 non-null int32\n",
      "interest_rate            116058 non-null float64\n",
      "unpaid_principal_bal     116058 non-null int64\n",
      "loan_term                116058 non-null int64\n",
      "loan_to_value            116058 non-null int64\n",
      "number_of_borrowers      116058 non-null float64\n",
      "debt_to_income_ratio     116058 non-null float64\n",
      "insurance_percent        116058 non-null float64\n",
      "insurance_type           116058 non-null float64\n",
      "m1                       116058 non-null int64\n",
      "m2                       116058 non-null int64\n",
      "m3                       116058 non-null int64\n",
      "m4                       116058 non-null int64\n",
      "m5                       116058 non-null int64\n",
      "m6                       116058 non-null int64\n",
      "m7                       116058 non-null int64\n",
      "m8                       116058 non-null int64\n",
      "m9                       116058 non-null int64\n",
      "m10                      116058 non-null int64\n",
      "m11                      116058 non-null int64\n",
      "m12                      116058 non-null int64\n",
      "total_credit_score       116058 non-null float64\n",
      "X                        116058 non-null uint8\n",
      "Y                        116058 non-null uint8\n",
      "Z                        116058 non-null uint8\n",
      "A23                      116058 non-null uint8\n",
      "B12                      116058 non-null uint8\n",
      "C86                      116058 non-null uint8\n",
      "dtypes: float64(6), int32(1), int64(15), uint8(6)\n",
      "memory usage: 19.7 MB\n"
     ]
    }
   ],
   "source": [
    "train.info()"
   ]
  },
  {
   "cell_type": "code",
   "execution_count": 66,
   "metadata": {},
   "outputs": [
    {
     "name": "stdout",
     "output_type": "stream",
     "text": [
      "<class 'pandas.core.frame.DataFrame'>\n",
      "RangeIndex: 35866 entries, 0 to 35865\n",
      "Data columns (total 28 columns):\n",
      "financial_institution    35866 non-null int32\n",
      "interest_rate            35866 non-null float64\n",
      "unpaid_principal_bal     35866 non-null int64\n",
      "loan_term                35866 non-null int64\n",
      "loan_to_value            35866 non-null int64\n",
      "number_of_borrowers      35866 non-null int64\n",
      "debt_to_income_ratio     35866 non-null int64\n",
      "insurance_percent        35866 non-null int64\n",
      "insurance_type           35866 non-null int64\n",
      "m1                       35866 non-null int64\n",
      "m2                       35866 non-null int64\n",
      "m3                       35866 non-null int64\n",
      "m4                       35866 non-null int64\n",
      "m5                       35866 non-null int64\n",
      "m6                       35866 non-null int64\n",
      "m7                       35866 non-null int64\n",
      "m8                       35866 non-null int64\n",
      "m9                       35866 non-null int64\n",
      "m10                      35866 non-null int64\n",
      "m11                      35866 non-null int64\n",
      "m12                      35866 non-null int64\n",
      "total_credit_score       35866 non-null int64\n",
      "X                        35866 non-null uint8\n",
      "Y                        35866 non-null uint8\n",
      "Z                        35866 non-null uint8\n",
      "A23                      35866 non-null uint8\n",
      "B12                      35866 non-null uint8\n",
      "C86                      35866 non-null uint8\n",
      "dtypes: float64(1), int32(1), int64(20), uint8(6)\n",
      "memory usage: 6.1 MB\n"
     ]
    }
   ],
   "source": [
    "test.info()"
   ]
  },
  {
   "cell_type": "code",
   "execution_count": 67,
   "metadata": {},
   "outputs": [],
   "source": [
    "robust_scaler = RobustScaler()\n",
    "#robust_scaler.fit(train)\n",
    "X_train = robust_scaler.fit_transform(train)\n",
    "X_test = robust_scaler.transform(test)"
   ]
  },
  {
   "cell_type": "code",
   "execution_count": 68,
   "metadata": {},
   "outputs": [],
   "source": [
    "#After choosing the sampling technique will tune the model for higher scores\n",
    "sampling_model = RandomOverSampler()\n",
    "X,y = sampling_model.fit_sample(X_train,y_train_labels)\n",
    "X = pd.DataFrame(X, columns = train.columns)\n"
   ]
  },
  {
   "cell_type": "code",
   "execution_count": 69,
   "metadata": {},
   "outputs": [
    {
     "name": "stdout",
     "output_type": "stream",
     "text": [
      "(230844, 28)\n"
     ]
    }
   ],
   "source": [
    "print(X.shape)"
   ]
  },
  {
   "cell_type": "code",
   "execution_count": 70,
   "metadata": {},
   "outputs": [
    {
     "data": {
      "text/plain": [
       "(230844,)"
      ]
     },
     "execution_count": 70,
     "metadata": {},
     "output_type": "execute_result"
    }
   ],
   "source": [
    "y.shape"
   ]
  },
  {
   "cell_type": "code",
   "execution_count": 71,
   "metadata": {},
   "outputs": [],
   "source": [
    "#model = RandomForestClassifier(random_state=42,max_depth= 10 ,min_samples_split= 5 ,n_estimators= 500,n_jobs=-1, min_samples_leaf=2,  criterion='entropy',class_weight= {0: 0.8, 1:1})\n",
    "#model.fit(X,y)\n",
    "model = RandomForestClassifier(random_state=100,n_estimators=200,criterion='entropy',class_weight='balanced')"
   ]
  },
  {
   "cell_type": "code",
   "execution_count": 72,
   "metadata": {},
   "outputs": [
    {
     "name": "stdout",
     "output_type": "stream",
     "text": [
      "1\n",
      "[194151 176032 142311 ... 100326 133183 161833] [ 31971 154958 208375 ... 154169 138628 199157]\n",
      "2\n",
      "[ 63904 230038 212605 ... 141327 155121 130348] [112622 101113 197439 ...  78154  80194  68726]\n",
      "3\n",
      "[158373  93190 190496 ...  22286 174564 157498] [ 87797   8042 186110 ...  70099 206347  89399]\n",
      "4\n",
      "[  2420 182165  18631 ... 119774  84142 200344] [ 77674 131743 197437 ...  79663  77050  46044]\n",
      "5\n",
      "[131801 135723 100875 ...  49414   4030  73703] [172449  61561 156087 ...  29236 163993 130371]\n",
      "6\n",
      "[ 26405 154653 119848 ... 203042 196342 182273] [181293  85227 181348 ... 142064  64428  51687]\n",
      "7\n",
      "[163440 208848  82574 ... 151529 208261 200235] [176104  33028 108517 ... 203502 146513  95589]\n",
      "8\n",
      "[ 64520  57149 151922 ... 226012 197145  62204] [ 33311 214854 226738 ...  61128 208791 203459]\n",
      "9\n",
      "[212816  63880  86622 ... 171445 209864 112738] [209504  51012  51617 ...  78084  32130 190110]\n",
      "10\n",
      "[ 30493 224767 171308 ... 104707  41915  68399] [ 28906  33854 199676 ...  55148 119814 149999]\n",
      "F1-score 0.9995367217437462\n"
     ]
    }
   ],
   "source": [
    "sss = StratifiedShuffleSplit(n_splits=10)\n",
    "f1_scores = []\n",
    "i=0\n",
    "for train_index, val_index in sss.split(X, y):\n",
    "    i=i+1\n",
    "    print(i)\n",
    "    print(train_index,val_index)\n",
    "    #print(train.iloc[train_index])\n",
    "    x_train, x_val = X.iloc[train_index], X.iloc[val_index]\n",
    "    #x_train, x_val = train_new[train_index], train_new[val_index]\n",
    "    #y_train, y_val = y.iloc[train_index], y.iloc[val_index]\n",
    "    y_train, y_val = y[train_index], y[val_index]\n",
    "    model.fit(x_train, y_train)\n",
    "    y_pred = model.predict(x_val)\n",
    "    f1_scores.append(f1_score(y_val, y_pred))\n",
    "\n",
    "print('F1-score', np.mean(f1_scores))"
   ]
  },
  {
   "cell_type": "code",
   "execution_count": 73,
   "metadata": {},
   "outputs": [],
   "source": [
    "from sklearn.ensemble import AdaBoostClassifier\n",
    "ada = AdaBoostClassifier()\n",
    "pipe_baseline = make_pipeline(RobustScaler(), ada)\n",
    "scores = cross_val_score(pipe_baseline,\n",
    "                         train, y_train_labels,\n",
    "                         scoring=\"f1\", cv=10)"
   ]
  },
  {
   "cell_type": "code",
   "execution_count": 74,
   "metadata": {},
   "outputs": [
    {
     "name": "stdout",
     "output_type": "stream",
     "text": [
      "1\n",
      "[ 52123  72730 117498 ...  43411  33102  71677] [ 44112 157107 215162 ...   8882  88465   7416]\n",
      "2\n",
      "[141739 124103 191968 ... 200512 202489 194331] [157410  34709  88365 ... 166879    493  86828]\n",
      "3\n",
      "[219701  96176   2494 ...  12336 129854  77930] [187750  66968 109135 ...   3544   4418 172693]\n",
      "4\n",
      "[ 62654  65627 114750 ...  74420 108576 223007] [211908 175848 206181 ... 181767 209042 151097]\n",
      "5\n",
      "[ 98666   9799 201556 ... 198253 229849  29911] [141963  73929  87838 ... 219226 106636  32038]\n",
      "6\n",
      "[156053 158950 210457 ...  68321 109902 113621] [ 52630  65611 152211 ... 210894 120750 204305]\n",
      "7\n",
      "[ 17785 113070  98946 ... 226163 117473 117704] [208655 209193 107745 ...  26085 127286  74599]\n",
      "8\n",
      "[204689 191154 224690 ...  70525 200461 177037] [ 53850  77479 102246 ... 173181 179347  72853]\n",
      "9\n",
      "[182794  12726 181780 ... 168099 222371 201581] [ 26532  41131 208109 ...  88866 119573  19089]\n",
      "10\n",
      "[ 90392 132725 196433 ...  53576 219431 153960] [228922  14407 193860 ...   5498 166139 125921]\n",
      "F1-score 0.9999393613135815\n"
     ]
    }
   ],
   "source": [
    "sss = StratifiedShuffleSplit(n_splits=10)\n",
    "f1_scores = []\n",
    "i=0\n",
    "for train_index, val_index in sss.split(X, y):\n",
    "    i=i+1\n",
    "    print(i)\n",
    "    print(train_index,val_index)\n",
    "    #print(train.iloc[train_index])\n",
    "    x_train, x_val = X.iloc[train_index], X.iloc[val_index]\n",
    "    #x_train, x_val = train_new[train_index], train_new[val_index]\n",
    "    y_train, y_val = y[train_index], y[val_index]\n",
    "    ada.fit(x_train, y_train)\n",
    "    y_pred = model.predict(x_val)\n",
    "    f1_scores.append(f1_score(y_val, y_pred))\n",
    "\n",
    "print('F1-score', np.mean(f1_scores))"
   ]
  },
  {
   "cell_type": "markdown",
   "metadata": {},
   "source": [
    "Both the models are overfitting. Need to Hypertune"
   ]
  },
  {
   "cell_type": "code",
   "execution_count": 75,
   "metadata": {},
   "outputs": [],
   "source": [
    "#pred_test = model.predict(test)\n",
    "pred_test = ada.predict(X_test)\n",
    "\n",
    "submission = pd.DataFrame({\n",
    "            \"loan_id\": test_data['loan_id'],\n",
    "            \"m13\": pred_test\n",
    "        })\n",
    "submission.to_csv('C:/Python/IndiaML/data/submission_ada.csv', index=False)\n"
   ]
  },
  {
   "cell_type": "code",
   "execution_count": 76,
   "metadata": {},
   "outputs": [
    {
     "data": {
      "text/plain": [
       "3598"
      ]
     },
     "execution_count": 76,
     "metadata": {},
     "output_type": "execute_result"
    }
   ],
   "source": [
    "sum(pred_test)"
   ]
  },
  {
   "cell_type": "code",
   "execution_count": 77,
   "metadata": {},
   "outputs": [
    {
     "data": {
      "text/plain": [
       "(35866, 28)"
      ]
     },
     "execution_count": 77,
     "metadata": {},
     "output_type": "execute_result"
    }
   ],
   "source": [
    "X_test.shape\n"
   ]
  },
  {
   "cell_type": "code",
   "execution_count": 78,
   "metadata": {},
   "outputs": [
    {
     "data": {
      "text/plain": [
       "total_credit_score       0.32\n",
       "interest_rate            0.14\n",
       "loan_to_value            0.10\n",
       "financial_institution    0.08\n",
       "unpaid_principal_bal     0.08\n",
       "debt_to_income_ratio     0.06\n",
       "m12                      0.06\n",
       "m11                      0.04\n",
       "m8                       0.02\n",
       "m1                       0.02\n",
       "m7                       0.02\n",
       "m5                       0.02\n",
       "m9                       0.02\n",
       "m10                      0.02\n",
       "m6                       0.00\n",
       "B12                      0.00\n",
       "m4                       0.00\n",
       "m3                       0.00\n",
       "m2                       0.00\n",
       "insurance_type           0.00\n",
       "insurance_percent        0.00\n",
       "X                        0.00\n",
       "number_of_borrowers      0.00\n",
       "Y                        0.00\n",
       "loan_term                0.00\n",
       "Z                        0.00\n",
       "A23                      0.00\n",
       "C86                      0.00\n",
       "dtype: float64"
      ]
     },
     "execution_count": 78,
     "metadata": {},
     "output_type": "execute_result"
    }
   ],
   "source": [
    "pd.Series(ada.feature_importances_,index=train.columns).sort_values(ascending=False)"
   ]
  },
  {
   "cell_type": "code",
   "execution_count": 79,
   "metadata": {},
   "outputs": [
    {
     "data": {
      "text/plain": [
       "total_credit_score       0.173250\n",
       "m12                      0.138709\n",
       "unpaid_principal_bal     0.099789\n",
       "debt_to_income_ratio     0.083492\n",
       "interest_rate            0.081228\n",
       "loan_to_value            0.073294\n",
       "m11                      0.071870\n",
       "financial_institution    0.040077\n",
       "m10                      0.033035\n",
       "m9                       0.033021\n",
       "m8                       0.024817\n",
       "loan_term                0.020485\n",
       "m7                       0.013578\n",
       "m5                       0.012555\n",
       "number_of_borrowers      0.012258\n",
       "insurance_percent        0.010980\n",
       "A23                      0.010808\n",
       "B12                      0.010040\n",
       "X                        0.009983\n",
       "Y                        0.009897\n",
       "C86                      0.008616\n",
       "Z                        0.008041\n",
       "m6                       0.006574\n",
       "m4                       0.006447\n",
       "m1                       0.003254\n",
       "m2                       0.002160\n",
       "m3                       0.001051\n",
       "insurance_type           0.000689\n",
       "dtype: float64"
      ]
     },
     "execution_count": 79,
     "metadata": {},
     "output_type": "execute_result"
    }
   ],
   "source": [
    "pd.Series(model.feature_importances_,index=train.columns).sort_values(ascending=False)"
   ]
  },
  {
   "cell_type": "code",
   "execution_count": 80,
   "metadata": {},
   "outputs": [],
   "source": [
    "from sklearn.model_selection import RandomizedSearchCV"
   ]
  },
  {
   "cell_type": "code",
   "execution_count": 81,
   "metadata": {},
   "outputs": [],
   "source": [
    "n_estimators = [int(x) for x in np.linspace(start=100,stop=500,num=20)]\n",
    "max_features=['auto','sqrt']\n",
    "max_depth=[int(x) for x in np.linspace(start=2,stop=10,num=1)]\n",
    "max_depth.append(None)\n",
    "min_samples_split=[2,4,6,8,10]\n",
    "min_samples_leaf=[1,2,3,4,5]\n",
    "bootstrap=[True,False]\n"
   ]
  },
  {
   "cell_type": "code",
   "execution_count": 82,
   "metadata": {},
   "outputs": [],
   "source": [
    "random_grid = {'n_estimators': n_estimators,\n",
    "               'max_features': max_features,\n",
    "               'max_depth': max_depth,\n",
    "               'min_samples_split': min_samples_split,\n",
    "               'min_samples_leaf': min_samples_leaf,\n",
    "               'bootstrap': bootstrap}"
   ]
  },
  {
   "cell_type": "code",
   "execution_count": 83,
   "metadata": {},
   "outputs": [
    {
     "name": "stdout",
     "output_type": "stream",
     "text": [
      "{'n_estimators': [100, 121, 142, 163, 184, 205, 226, 247, 268, 289, 310, 331, 352, 373, 394, 415, 436, 457, 478, 500], 'max_features': ['auto', 'sqrt'], 'max_depth': [2, None], 'min_samples_split': [2, 4, 6, 8, 10], 'min_samples_leaf': [1, 2, 3, 4, 5], 'bootstrap': [True, False]}\n"
     ]
    }
   ],
   "source": [
    "print(random_grid)"
   ]
  },
  {
   "cell_type": "code",
   "execution_count": 84,
   "metadata": {},
   "outputs": [
    {
     "name": "stdout",
     "output_type": "stream",
     "text": [
      "Fitting 3 folds for each of 50 candidates, totalling 150 fits\n",
      "[CV] n_estimators=415, min_samples_split=6, min_samples_leaf=1, max_features=sqrt, max_depth=2, bootstrap=True \n"
     ]
    },
    {
     "name": "stderr",
     "output_type": "stream",
     "text": [
      "[Parallel(n_jobs=1)]: Using backend SequentialBackend with 1 concurrent workers.\n"
     ]
    },
    {
     "name": "stdout",
     "output_type": "stream",
     "text": [
      "[CV]  n_estimators=415, min_samples_split=6, min_samples_leaf=1, max_features=sqrt, max_depth=2, bootstrap=True, total=  16.8s\n",
      "[CV] n_estimators=415, min_samples_split=6, min_samples_leaf=1, max_features=sqrt, max_depth=2, bootstrap=True \n"
     ]
    },
    {
     "name": "stderr",
     "output_type": "stream",
     "text": [
      "[Parallel(n_jobs=1)]: Done   1 out of   1 | elapsed:   16.7s remaining:    0.0s\n"
     ]
    },
    {
     "name": "stdout",
     "output_type": "stream",
     "text": [
      "[CV]  n_estimators=415, min_samples_split=6, min_samples_leaf=1, max_features=sqrt, max_depth=2, bootstrap=True, total=  16.8s\n",
      "[CV] n_estimators=415, min_samples_split=6, min_samples_leaf=1, max_features=sqrt, max_depth=2, bootstrap=True \n",
      "[CV]  n_estimators=415, min_samples_split=6, min_samples_leaf=1, max_features=sqrt, max_depth=2, bootstrap=True, total=  16.9s\n",
      "[CV] n_estimators=331, min_samples_split=10, min_samples_leaf=5, max_features=auto, max_depth=None, bootstrap=False \n",
      "[CV]  n_estimators=331, min_samples_split=10, min_samples_leaf=5, max_features=auto, max_depth=None, bootstrap=False, total= 1.0min\n",
      "[CV] n_estimators=331, min_samples_split=10, min_samples_leaf=5, max_features=auto, max_depth=None, bootstrap=False \n",
      "[CV]  n_estimators=331, min_samples_split=10, min_samples_leaf=5, max_features=auto, max_depth=None, bootstrap=False, total= 1.1min\n",
      "[CV] n_estimators=331, min_samples_split=10, min_samples_leaf=5, max_features=auto, max_depth=None, bootstrap=False \n",
      "[CV]  n_estimators=331, min_samples_split=10, min_samples_leaf=5, max_features=auto, max_depth=None, bootstrap=False, total= 1.1min\n",
      "[CV] n_estimators=247, min_samples_split=4, min_samples_leaf=1, max_features=sqrt, max_depth=2, bootstrap=True \n",
      "[CV]  n_estimators=247, min_samples_split=4, min_samples_leaf=1, max_features=sqrt, max_depth=2, bootstrap=True, total=  10.0s\n",
      "[CV] n_estimators=247, min_samples_split=4, min_samples_leaf=1, max_features=sqrt, max_depth=2, bootstrap=True \n",
      "[CV]  n_estimators=247, min_samples_split=4, min_samples_leaf=1, max_features=sqrt, max_depth=2, bootstrap=True, total=   9.9s\n",
      "[CV] n_estimators=247, min_samples_split=4, min_samples_leaf=1, max_features=sqrt, max_depth=2, bootstrap=True \n",
      "[CV]  n_estimators=247, min_samples_split=4, min_samples_leaf=1, max_features=sqrt, max_depth=2, bootstrap=True, total=  10.0s\n",
      "[CV] n_estimators=205, min_samples_split=4, min_samples_leaf=5, max_features=sqrt, max_depth=None, bootstrap=False \n",
      "[CV]  n_estimators=205, min_samples_split=4, min_samples_leaf=5, max_features=sqrt, max_depth=None, bootstrap=False, total=  38.9s\n",
      "[CV] n_estimators=205, min_samples_split=4, min_samples_leaf=5, max_features=sqrt, max_depth=None, bootstrap=False \n",
      "[CV]  n_estimators=205, min_samples_split=4, min_samples_leaf=5, max_features=sqrt, max_depth=None, bootstrap=False, total=  39.1s\n",
      "[CV] n_estimators=205, min_samples_split=4, min_samples_leaf=5, max_features=sqrt, max_depth=None, bootstrap=False \n",
      "[CV]  n_estimators=205, min_samples_split=4, min_samples_leaf=5, max_features=sqrt, max_depth=None, bootstrap=False, total=  39.0s\n",
      "[CV] n_estimators=289, min_samples_split=10, min_samples_leaf=5, max_features=sqrt, max_depth=2, bootstrap=False \n",
      "[CV]  n_estimators=289, min_samples_split=10, min_samples_leaf=5, max_features=sqrt, max_depth=2, bootstrap=False, total=  14.2s\n",
      "[CV] n_estimators=289, min_samples_split=10, min_samples_leaf=5, max_features=sqrt, max_depth=2, bootstrap=False \n",
      "[CV]  n_estimators=289, min_samples_split=10, min_samples_leaf=5, max_features=sqrt, max_depth=2, bootstrap=False, total=  15.7s\n",
      "[CV] n_estimators=289, min_samples_split=10, min_samples_leaf=5, max_features=sqrt, max_depth=2, bootstrap=False \n",
      "[CV]  n_estimators=289, min_samples_split=10, min_samples_leaf=5, max_features=sqrt, max_depth=2, bootstrap=False, total=  15.3s\n",
      "[CV] n_estimators=310, min_samples_split=8, min_samples_leaf=1, max_features=auto, max_depth=2, bootstrap=True \n",
      "[CV]  n_estimators=310, min_samples_split=8, min_samples_leaf=1, max_features=auto, max_depth=2, bootstrap=True, total=  12.8s\n",
      "[CV] n_estimators=310, min_samples_split=8, min_samples_leaf=1, max_features=auto, max_depth=2, bootstrap=True \n",
      "[CV]  n_estimators=310, min_samples_split=8, min_samples_leaf=1, max_features=auto, max_depth=2, bootstrap=True, total=  12.9s\n",
      "[CV] n_estimators=310, min_samples_split=8, min_samples_leaf=1, max_features=auto, max_depth=2, bootstrap=True \n",
      "[CV]  n_estimators=310, min_samples_split=8, min_samples_leaf=1, max_features=auto, max_depth=2, bootstrap=True, total=  12.8s\n",
      "[CV] n_estimators=436, min_samples_split=6, min_samples_leaf=3, max_features=sqrt, max_depth=None, bootstrap=True \n",
      "[CV]  n_estimators=436, min_samples_split=6, min_samples_leaf=3, max_features=sqrt, max_depth=None, bootstrap=True, total=  59.4s\n",
      "[CV] n_estimators=436, min_samples_split=6, min_samples_leaf=3, max_features=sqrt, max_depth=None, bootstrap=True \n",
      "[CV]  n_estimators=436, min_samples_split=6, min_samples_leaf=3, max_features=sqrt, max_depth=None, bootstrap=True, total= 1.0min\n",
      "[CV] n_estimators=436, min_samples_split=6, min_samples_leaf=3, max_features=sqrt, max_depth=None, bootstrap=True \n",
      "[CV]  n_estimators=436, min_samples_split=6, min_samples_leaf=3, max_features=sqrt, max_depth=None, bootstrap=True, total= 1.1min\n",
      "[CV] n_estimators=331, min_samples_split=2, min_samples_leaf=3, max_features=auto, max_depth=2, bootstrap=True \n",
      "[CV]  n_estimators=331, min_samples_split=2, min_samples_leaf=3, max_features=auto, max_depth=2, bootstrap=True, total=  14.1s\n",
      "[CV] n_estimators=331, min_samples_split=2, min_samples_leaf=3, max_features=auto, max_depth=2, bootstrap=True \n",
      "[CV]  n_estimators=331, min_samples_split=2, min_samples_leaf=3, max_features=auto, max_depth=2, bootstrap=True, total=  14.8s\n",
      "[CV] n_estimators=331, min_samples_split=2, min_samples_leaf=3, max_features=auto, max_depth=2, bootstrap=True \n",
      "[CV]  n_estimators=331, min_samples_split=2, min_samples_leaf=3, max_features=auto, max_depth=2, bootstrap=True, total=  15.1s\n",
      "[CV] n_estimators=436, min_samples_split=10, min_samples_leaf=2, max_features=auto, max_depth=2, bootstrap=True \n",
      "[CV]  n_estimators=436, min_samples_split=10, min_samples_leaf=2, max_features=auto, max_depth=2, bootstrap=True, total=  19.9s\n",
      "[CV] n_estimators=436, min_samples_split=10, min_samples_leaf=2, max_features=auto, max_depth=2, bootstrap=True \n",
      "[CV]  n_estimators=436, min_samples_split=10, min_samples_leaf=2, max_features=auto, max_depth=2, bootstrap=True, total=  19.9s\n",
      "[CV] n_estimators=436, min_samples_split=10, min_samples_leaf=2, max_features=auto, max_depth=2, bootstrap=True \n",
      "[CV]  n_estimators=436, min_samples_split=10, min_samples_leaf=2, max_features=auto, max_depth=2, bootstrap=True, total=  19.2s\n",
      "[CV] n_estimators=163, min_samples_split=2, min_samples_leaf=4, max_features=sqrt, max_depth=2, bootstrap=True \n",
      "[CV]  n_estimators=163, min_samples_split=2, min_samples_leaf=4, max_features=sqrt, max_depth=2, bootstrap=True, total=   7.3s\n",
      "[CV] n_estimators=163, min_samples_split=2, min_samples_leaf=4, max_features=sqrt, max_depth=2, bootstrap=True \n",
      "[CV]  n_estimators=163, min_samples_split=2, min_samples_leaf=4, max_features=sqrt, max_depth=2, bootstrap=True, total=   7.2s\n",
      "[CV] n_estimators=163, min_samples_split=2, min_samples_leaf=4, max_features=sqrt, max_depth=2, bootstrap=True \n",
      "[CV]  n_estimators=163, min_samples_split=2, min_samples_leaf=4, max_features=sqrt, max_depth=2, bootstrap=True, total=   7.2s\n",
      "[CV] n_estimators=289, min_samples_split=2, min_samples_leaf=5, max_features=auto, max_depth=None, bootstrap=False \n",
      "[CV]  n_estimators=289, min_samples_split=2, min_samples_leaf=5, max_features=auto, max_depth=None, bootstrap=False, total= 1.0min\n",
      "[CV] n_estimators=289, min_samples_split=2, min_samples_leaf=5, max_features=auto, max_depth=None, bootstrap=False \n",
      "[CV]  n_estimators=289, min_samples_split=2, min_samples_leaf=5, max_features=auto, max_depth=None, bootstrap=False, total= 1.0min\n",
      "[CV] n_estimators=289, min_samples_split=2, min_samples_leaf=5, max_features=auto, max_depth=None, bootstrap=False \n",
      "[CV]  n_estimators=289, min_samples_split=2, min_samples_leaf=5, max_features=auto, max_depth=None, bootstrap=False, total= 1.0min\n",
      "[CV] n_estimators=436, min_samples_split=4, min_samples_leaf=4, max_features=sqrt, max_depth=None, bootstrap=False \n",
      "[CV]  n_estimators=436, min_samples_split=4, min_samples_leaf=4, max_features=sqrt, max_depth=None, bootstrap=False, total= 1.5min\n",
      "[CV] n_estimators=436, min_samples_split=4, min_samples_leaf=4, max_features=sqrt, max_depth=None, bootstrap=False \n",
      "[CV]  n_estimators=436, min_samples_split=4, min_samples_leaf=4, max_features=sqrt, max_depth=None, bootstrap=False, total= 1.5min\n",
      "[CV] n_estimators=436, min_samples_split=4, min_samples_leaf=4, max_features=sqrt, max_depth=None, bootstrap=False \n"
     ]
    },
    {
     "name": "stdout",
     "output_type": "stream",
     "text": [
      "[CV]  n_estimators=436, min_samples_split=4, min_samples_leaf=4, max_features=sqrt, max_depth=None, bootstrap=False, total= 1.5min\n",
      "[CV] n_estimators=226, min_samples_split=6, min_samples_leaf=2, max_features=auto, max_depth=None, bootstrap=True \n",
      "[CV]  n_estimators=226, min_samples_split=6, min_samples_leaf=2, max_features=auto, max_depth=None, bootstrap=True, total=  30.3s\n",
      "[CV] n_estimators=226, min_samples_split=6, min_samples_leaf=2, max_features=auto, max_depth=None, bootstrap=True \n",
      "[CV]  n_estimators=226, min_samples_split=6, min_samples_leaf=2, max_features=auto, max_depth=None, bootstrap=True, total=  30.2s\n",
      "[CV] n_estimators=226, min_samples_split=6, min_samples_leaf=2, max_features=auto, max_depth=None, bootstrap=True \n",
      "[CV]  n_estimators=226, min_samples_split=6, min_samples_leaf=2, max_features=auto, max_depth=None, bootstrap=True, total=  30.3s\n",
      "[CV] n_estimators=478, min_samples_split=10, min_samples_leaf=5, max_features=auto, max_depth=None, bootstrap=True \n",
      "[CV]  n_estimators=478, min_samples_split=10, min_samples_leaf=5, max_features=auto, max_depth=None, bootstrap=True, total= 1.0min\n",
      "[CV] n_estimators=478, min_samples_split=10, min_samples_leaf=5, max_features=auto, max_depth=None, bootstrap=True \n",
      "[CV]  n_estimators=478, min_samples_split=10, min_samples_leaf=5, max_features=auto, max_depth=None, bootstrap=True, total= 1.0min\n",
      "[CV] n_estimators=478, min_samples_split=10, min_samples_leaf=5, max_features=auto, max_depth=None, bootstrap=True \n",
      "[CV]  n_estimators=478, min_samples_split=10, min_samples_leaf=5, max_features=auto, max_depth=None, bootstrap=True, total= 1.0min\n",
      "[CV] n_estimators=478, min_samples_split=6, min_samples_leaf=4, max_features=sqrt, max_depth=None, bootstrap=False \n",
      "[CV]  n_estimators=478, min_samples_split=6, min_samples_leaf=4, max_features=sqrt, max_depth=None, bootstrap=False, total= 1.6min\n",
      "[CV] n_estimators=478, min_samples_split=6, min_samples_leaf=4, max_features=sqrt, max_depth=None, bootstrap=False \n",
      "[CV]  n_estimators=478, min_samples_split=6, min_samples_leaf=4, max_features=sqrt, max_depth=None, bootstrap=False, total= 1.6min\n",
      "[CV] n_estimators=478, min_samples_split=6, min_samples_leaf=4, max_features=sqrt, max_depth=None, bootstrap=False \n",
      "[CV]  n_estimators=478, min_samples_split=6, min_samples_leaf=4, max_features=sqrt, max_depth=None, bootstrap=False, total= 1.6min\n",
      "[CV] n_estimators=142, min_samples_split=10, min_samples_leaf=5, max_features=auto, max_depth=None, bootstrap=False \n",
      "[CV]  n_estimators=142, min_samples_split=10, min_samples_leaf=5, max_features=auto, max_depth=None, bootstrap=False, total=  27.3s\n",
      "[CV] n_estimators=142, min_samples_split=10, min_samples_leaf=5, max_features=auto, max_depth=None, bootstrap=False \n",
      "[CV]  n_estimators=142, min_samples_split=10, min_samples_leaf=5, max_features=auto, max_depth=None, bootstrap=False, total=  27.1s\n",
      "[CV] n_estimators=142, min_samples_split=10, min_samples_leaf=5, max_features=auto, max_depth=None, bootstrap=False \n",
      "[CV]  n_estimators=142, min_samples_split=10, min_samples_leaf=5, max_features=auto, max_depth=None, bootstrap=False, total=  27.2s\n",
      "[CV] n_estimators=205, min_samples_split=10, min_samples_leaf=2, max_features=auto, max_depth=None, bootstrap=True \n",
      "[CV]  n_estimators=205, min_samples_split=10, min_samples_leaf=2, max_features=auto, max_depth=None, bootstrap=True, total=  26.9s\n",
      "[CV] n_estimators=205, min_samples_split=10, min_samples_leaf=2, max_features=auto, max_depth=None, bootstrap=True \n",
      "[CV]  n_estimators=205, min_samples_split=10, min_samples_leaf=2, max_features=auto, max_depth=None, bootstrap=True, total=  26.8s\n",
      "[CV] n_estimators=205, min_samples_split=10, min_samples_leaf=2, max_features=auto, max_depth=None, bootstrap=True \n",
      "[CV]  n_estimators=205, min_samples_split=10, min_samples_leaf=2, max_features=auto, max_depth=None, bootstrap=True, total=  27.1s\n",
      "[CV] n_estimators=331, min_samples_split=8, min_samples_leaf=5, max_features=auto, max_depth=2, bootstrap=True \n",
      "[CV]  n_estimators=331, min_samples_split=8, min_samples_leaf=5, max_features=auto, max_depth=2, bootstrap=True, total=  13.4s\n",
      "[CV] n_estimators=331, min_samples_split=8, min_samples_leaf=5, max_features=auto, max_depth=2, bootstrap=True \n",
      "[CV]  n_estimators=331, min_samples_split=8, min_samples_leaf=5, max_features=auto, max_depth=2, bootstrap=True, total=  13.4s\n",
      "[CV] n_estimators=331, min_samples_split=8, min_samples_leaf=5, max_features=auto, max_depth=2, bootstrap=True \n",
      "[CV]  n_estimators=331, min_samples_split=8, min_samples_leaf=5, max_features=auto, max_depth=2, bootstrap=True, total=  13.4s\n",
      "[CV] n_estimators=394, min_samples_split=10, min_samples_leaf=1, max_features=sqrt, max_depth=2, bootstrap=True \n",
      "[CV]  n_estimators=394, min_samples_split=10, min_samples_leaf=1, max_features=sqrt, max_depth=2, bootstrap=True, total=  15.9s\n",
      "[CV] n_estimators=394, min_samples_split=10, min_samples_leaf=1, max_features=sqrt, max_depth=2, bootstrap=True \n",
      "[CV]  n_estimators=394, min_samples_split=10, min_samples_leaf=1, max_features=sqrt, max_depth=2, bootstrap=True, total=  15.9s\n",
      "[CV] n_estimators=394, min_samples_split=10, min_samples_leaf=1, max_features=sqrt, max_depth=2, bootstrap=True \n",
      "[CV]  n_estimators=394, min_samples_split=10, min_samples_leaf=1, max_features=sqrt, max_depth=2, bootstrap=True, total=  15.9s\n",
      "[CV] n_estimators=121, min_samples_split=4, min_samples_leaf=4, max_features=auto, max_depth=2, bootstrap=True \n",
      "[CV]  n_estimators=121, min_samples_split=4, min_samples_leaf=4, max_features=auto, max_depth=2, bootstrap=True, total=   4.9s\n",
      "[CV] n_estimators=121, min_samples_split=4, min_samples_leaf=4, max_features=auto, max_depth=2, bootstrap=True \n",
      "[CV]  n_estimators=121, min_samples_split=4, min_samples_leaf=4, max_features=auto, max_depth=2, bootstrap=True, total=   4.9s\n",
      "[CV] n_estimators=121, min_samples_split=4, min_samples_leaf=4, max_features=auto, max_depth=2, bootstrap=True \n",
      "[CV]  n_estimators=121, min_samples_split=4, min_samples_leaf=4, max_features=auto, max_depth=2, bootstrap=True, total=   4.9s\n",
      "[CV] n_estimators=457, min_samples_split=2, min_samples_leaf=5, max_features=auto, max_depth=None, bootstrap=True \n",
      "[CV]  n_estimators=457, min_samples_split=2, min_samples_leaf=5, max_features=auto, max_depth=None, bootstrap=True, total=  58.5s\n",
      "[CV] n_estimators=457, min_samples_split=2, min_samples_leaf=5, max_features=auto, max_depth=None, bootstrap=True \n",
      "[CV]  n_estimators=457, min_samples_split=2, min_samples_leaf=5, max_features=auto, max_depth=None, bootstrap=True, total=  58.6s\n",
      "[CV] n_estimators=457, min_samples_split=2, min_samples_leaf=5, max_features=auto, max_depth=None, bootstrap=True \n",
      "[CV]  n_estimators=457, min_samples_split=2, min_samples_leaf=5, max_features=auto, max_depth=None, bootstrap=True, total=  58.5s\n",
      "[CV] n_estimators=394, min_samples_split=8, min_samples_leaf=2, max_features=sqrt, max_depth=None, bootstrap=True \n",
      "[CV]  n_estimators=394, min_samples_split=8, min_samples_leaf=2, max_features=sqrt, max_depth=None, bootstrap=True, total=  51.8s\n",
      "[CV] n_estimators=394, min_samples_split=8, min_samples_leaf=2, max_features=sqrt, max_depth=None, bootstrap=True \n",
      "[CV]  n_estimators=394, min_samples_split=8, min_samples_leaf=2, max_features=sqrt, max_depth=None, bootstrap=True, total=  51.7s\n",
      "[CV] n_estimators=394, min_samples_split=8, min_samples_leaf=2, max_features=sqrt, max_depth=None, bootstrap=True \n",
      "[CV]  n_estimators=394, min_samples_split=8, min_samples_leaf=2, max_features=sqrt, max_depth=None, bootstrap=True, total=  51.9s\n",
      "[CV] n_estimators=310, min_samples_split=10, min_samples_leaf=1, max_features=sqrt, max_depth=None, bootstrap=False \n",
      "[CV]  n_estimators=310, min_samples_split=10, min_samples_leaf=1, max_features=sqrt, max_depth=None, bootstrap=False, total= 1.0min\n",
      "[CV] n_estimators=310, min_samples_split=10, min_samples_leaf=1, max_features=sqrt, max_depth=None, bootstrap=False \n",
      "[CV]  n_estimators=310, min_samples_split=10, min_samples_leaf=1, max_features=sqrt, max_depth=None, bootstrap=False, total= 1.0min\n",
      "[CV] n_estimators=310, min_samples_split=10, min_samples_leaf=1, max_features=sqrt, max_depth=None, bootstrap=False \n",
      "[CV]  n_estimators=310, min_samples_split=10, min_samples_leaf=1, max_features=sqrt, max_depth=None, bootstrap=False, total= 1.0min\n",
      "[CV] n_estimators=163, min_samples_split=2, min_samples_leaf=3, max_features=sqrt, max_depth=None, bootstrap=True \n"
     ]
    },
    {
     "name": "stdout",
     "output_type": "stream",
     "text": [
      "[CV]  n_estimators=163, min_samples_split=2, min_samples_leaf=3, max_features=sqrt, max_depth=None, bootstrap=True, total=  21.1s\n",
      "[CV] n_estimators=163, min_samples_split=2, min_samples_leaf=3, max_features=sqrt, max_depth=None, bootstrap=True \n",
      "[CV]  n_estimators=163, min_samples_split=2, min_samples_leaf=3, max_features=sqrt, max_depth=None, bootstrap=True, total=  21.2s\n",
      "[CV] n_estimators=163, min_samples_split=2, min_samples_leaf=3, max_features=sqrt, max_depth=None, bootstrap=True \n",
      "[CV]  n_estimators=163, min_samples_split=2, min_samples_leaf=3, max_features=sqrt, max_depth=None, bootstrap=True, total=  21.1s\n",
      "[CV] n_estimators=100, min_samples_split=6, min_samples_leaf=1, max_features=sqrt, max_depth=2, bootstrap=False \n",
      "[CV]  n_estimators=100, min_samples_split=6, min_samples_leaf=1, max_features=sqrt, max_depth=2, bootstrap=False, total=   4.9s\n",
      "[CV] n_estimators=100, min_samples_split=6, min_samples_leaf=1, max_features=sqrt, max_depth=2, bootstrap=False \n",
      "[CV]  n_estimators=100, min_samples_split=6, min_samples_leaf=1, max_features=sqrt, max_depth=2, bootstrap=False, total=   4.9s\n",
      "[CV] n_estimators=100, min_samples_split=6, min_samples_leaf=1, max_features=sqrt, max_depth=2, bootstrap=False \n",
      "[CV]  n_estimators=100, min_samples_split=6, min_samples_leaf=1, max_features=sqrt, max_depth=2, bootstrap=False, total=   4.9s\n",
      "[CV] n_estimators=205, min_samples_split=2, min_samples_leaf=3, max_features=auto, max_depth=2, bootstrap=True \n",
      "[CV]  n_estimators=205, min_samples_split=2, min_samples_leaf=3, max_features=auto, max_depth=2, bootstrap=True, total=   8.3s\n",
      "[CV] n_estimators=205, min_samples_split=2, min_samples_leaf=3, max_features=auto, max_depth=2, bootstrap=True \n",
      "[CV]  n_estimators=205, min_samples_split=2, min_samples_leaf=3, max_features=auto, max_depth=2, bootstrap=True, total=   8.3s\n",
      "[CV] n_estimators=205, min_samples_split=2, min_samples_leaf=3, max_features=auto, max_depth=2, bootstrap=True \n",
      "[CV]  n_estimators=205, min_samples_split=2, min_samples_leaf=3, max_features=auto, max_depth=2, bootstrap=True, total=   8.3s\n",
      "[CV] n_estimators=247, min_samples_split=10, min_samples_leaf=4, max_features=sqrt, max_depth=None, bootstrap=False \n",
      "[CV]  n_estimators=247, min_samples_split=10, min_samples_leaf=4, max_features=sqrt, max_depth=None, bootstrap=False, total=  47.2s\n",
      "[CV] n_estimators=247, min_samples_split=10, min_samples_leaf=4, max_features=sqrt, max_depth=None, bootstrap=False \n",
      "[CV]  n_estimators=247, min_samples_split=10, min_samples_leaf=4, max_features=sqrt, max_depth=None, bootstrap=False, total=  47.4s\n",
      "[CV] n_estimators=247, min_samples_split=10, min_samples_leaf=4, max_features=sqrt, max_depth=None, bootstrap=False \n",
      "[CV]  n_estimators=247, min_samples_split=10, min_samples_leaf=4, max_features=sqrt, max_depth=None, bootstrap=False, total=  47.1s\n",
      "[CV] n_estimators=268, min_samples_split=6, min_samples_leaf=3, max_features=auto, max_depth=None, bootstrap=False \n",
      "[CV]  n_estimators=268, min_samples_split=6, min_samples_leaf=3, max_features=auto, max_depth=None, bootstrap=False, total=  51.8s\n",
      "[CV] n_estimators=268, min_samples_split=6, min_samples_leaf=3, max_features=auto, max_depth=None, bootstrap=False \n",
      "[CV]  n_estimators=268, min_samples_split=6, min_samples_leaf=3, max_features=auto, max_depth=None, bootstrap=False, total=  51.5s\n",
      "[CV] n_estimators=268, min_samples_split=6, min_samples_leaf=3, max_features=auto, max_depth=None, bootstrap=False \n",
      "[CV]  n_estimators=268, min_samples_split=6, min_samples_leaf=3, max_features=auto, max_depth=None, bootstrap=False, total=  51.6s\n",
      "[CV] n_estimators=331, min_samples_split=4, min_samples_leaf=2, max_features=auto, max_depth=2, bootstrap=False \n",
      "[CV]  n_estimators=331, min_samples_split=4, min_samples_leaf=2, max_features=auto, max_depth=2, bootstrap=False, total=  16.1s\n",
      "[CV] n_estimators=331, min_samples_split=4, min_samples_leaf=2, max_features=auto, max_depth=2, bootstrap=False \n",
      "[CV]  n_estimators=331, min_samples_split=4, min_samples_leaf=2, max_features=auto, max_depth=2, bootstrap=False, total=  16.1s\n",
      "[CV] n_estimators=331, min_samples_split=4, min_samples_leaf=2, max_features=auto, max_depth=2, bootstrap=False \n",
      "[CV]  n_estimators=331, min_samples_split=4, min_samples_leaf=2, max_features=auto, max_depth=2, bootstrap=False, total=  16.1s\n",
      "[CV] n_estimators=415, min_samples_split=6, min_samples_leaf=3, max_features=auto, max_depth=None, bootstrap=True \n",
      "[CV]  n_estimators=415, min_samples_split=6, min_samples_leaf=3, max_features=auto, max_depth=None, bootstrap=True, total=  53.7s\n",
      "[CV] n_estimators=415, min_samples_split=6, min_samples_leaf=3, max_features=auto, max_depth=None, bootstrap=True \n",
      "[CV]  n_estimators=415, min_samples_split=6, min_samples_leaf=3, max_features=auto, max_depth=None, bootstrap=True, total=  54.1s\n",
      "[CV] n_estimators=415, min_samples_split=6, min_samples_leaf=3, max_features=auto, max_depth=None, bootstrap=True \n",
      "[CV]  n_estimators=415, min_samples_split=6, min_samples_leaf=3, max_features=auto, max_depth=None, bootstrap=True, total=  53.9s\n",
      "[CV] n_estimators=500, min_samples_split=10, min_samples_leaf=3, max_features=auto, max_depth=2, bootstrap=False \n",
      "[CV]  n_estimators=500, min_samples_split=10, min_samples_leaf=3, max_features=auto, max_depth=2, bootstrap=False, total=  24.3s\n",
      "[CV] n_estimators=500, min_samples_split=10, min_samples_leaf=3, max_features=auto, max_depth=2, bootstrap=False \n",
      "[CV]  n_estimators=500, min_samples_split=10, min_samples_leaf=3, max_features=auto, max_depth=2, bootstrap=False, total=  24.3s\n",
      "[CV] n_estimators=500, min_samples_split=10, min_samples_leaf=3, max_features=auto, max_depth=2, bootstrap=False \n",
      "[CV]  n_estimators=500, min_samples_split=10, min_samples_leaf=3, max_features=auto, max_depth=2, bootstrap=False, total=  24.0s\n",
      "[CV] n_estimators=226, min_samples_split=4, min_samples_leaf=3, max_features=auto, max_depth=None, bootstrap=True \n",
      "[CV]  n_estimators=226, min_samples_split=4, min_samples_leaf=3, max_features=auto, max_depth=None, bootstrap=True, total=  29.3s\n",
      "[CV] n_estimators=226, min_samples_split=4, min_samples_leaf=3, max_features=auto, max_depth=None, bootstrap=True \n",
      "[CV]  n_estimators=226, min_samples_split=4, min_samples_leaf=3, max_features=auto, max_depth=None, bootstrap=True, total=  29.4s\n",
      "[CV] n_estimators=226, min_samples_split=4, min_samples_leaf=3, max_features=auto, max_depth=None, bootstrap=True \n",
      "[CV]  n_estimators=226, min_samples_split=4, min_samples_leaf=3, max_features=auto, max_depth=None, bootstrap=True, total=  29.4s\n",
      "[CV] n_estimators=478, min_samples_split=2, min_samples_leaf=5, max_features=sqrt, max_depth=None, bootstrap=False \n",
      "[CV]  n_estimators=478, min_samples_split=2, min_samples_leaf=5, max_features=sqrt, max_depth=None, bootstrap=False, total= 1.5min\n",
      "[CV] n_estimators=478, min_samples_split=2, min_samples_leaf=5, max_features=sqrt, max_depth=None, bootstrap=False \n",
      "[CV]  n_estimators=478, min_samples_split=2, min_samples_leaf=5, max_features=sqrt, max_depth=None, bootstrap=False, total= 1.5min\n",
      "[CV] n_estimators=478, min_samples_split=2, min_samples_leaf=5, max_features=sqrt, max_depth=None, bootstrap=False \n",
      "[CV]  n_estimators=478, min_samples_split=2, min_samples_leaf=5, max_features=sqrt, max_depth=None, bootstrap=False, total= 1.5min\n",
      "[CV] n_estimators=184, min_samples_split=8, min_samples_leaf=5, max_features=auto, max_depth=2, bootstrap=False \n",
      "[CV]  n_estimators=184, min_samples_split=8, min_samples_leaf=5, max_features=auto, max_depth=2, bootstrap=False, total=   8.9s\n",
      "[CV] n_estimators=184, min_samples_split=8, min_samples_leaf=5, max_features=auto, max_depth=2, bootstrap=False \n",
      "[CV]  n_estimators=184, min_samples_split=8, min_samples_leaf=5, max_features=auto, max_depth=2, bootstrap=False, total=   9.0s\n",
      "[CV] n_estimators=184, min_samples_split=8, min_samples_leaf=5, max_features=auto, max_depth=2, bootstrap=False \n",
      "[CV]  n_estimators=184, min_samples_split=8, min_samples_leaf=5, max_features=auto, max_depth=2, bootstrap=False, total=   8.9s\n",
      "[CV] n_estimators=163, min_samples_split=10, min_samples_leaf=4, max_features=auto, max_depth=2, bootstrap=False \n",
      "[CV]  n_estimators=163, min_samples_split=10, min_samples_leaf=4, max_features=auto, max_depth=2, bootstrap=False, total=   7.9s\n",
      "[CV] n_estimators=163, min_samples_split=10, min_samples_leaf=4, max_features=auto, max_depth=2, bootstrap=False \n"
     ]
    },
    {
     "name": "stdout",
     "output_type": "stream",
     "text": [
      "[CV]  n_estimators=163, min_samples_split=10, min_samples_leaf=4, max_features=auto, max_depth=2, bootstrap=False, total=   8.0s\n",
      "[CV] n_estimators=163, min_samples_split=10, min_samples_leaf=4, max_features=auto, max_depth=2, bootstrap=False \n",
      "[CV]  n_estimators=163, min_samples_split=10, min_samples_leaf=4, max_features=auto, max_depth=2, bootstrap=False, total=   7.9s\n",
      "[CV] n_estimators=289, min_samples_split=6, min_samples_leaf=2, max_features=auto, max_depth=2, bootstrap=True \n",
      "[CV]  n_estimators=289, min_samples_split=6, min_samples_leaf=2, max_features=auto, max_depth=2, bootstrap=True, total=  11.7s\n",
      "[CV] n_estimators=289, min_samples_split=6, min_samples_leaf=2, max_features=auto, max_depth=2, bootstrap=True \n",
      "[CV]  n_estimators=289, min_samples_split=6, min_samples_leaf=2, max_features=auto, max_depth=2, bootstrap=True, total=  11.7s\n",
      "[CV] n_estimators=289, min_samples_split=6, min_samples_leaf=2, max_features=auto, max_depth=2, bootstrap=True \n",
      "[CV]  n_estimators=289, min_samples_split=6, min_samples_leaf=2, max_features=auto, max_depth=2, bootstrap=True, total=  11.7s\n",
      "[CV] n_estimators=289, min_samples_split=8, min_samples_leaf=4, max_features=sqrt, max_depth=2, bootstrap=True \n",
      "[CV]  n_estimators=289, min_samples_split=8, min_samples_leaf=4, max_features=sqrt, max_depth=2, bootstrap=True, total=  11.7s\n",
      "[CV] n_estimators=289, min_samples_split=8, min_samples_leaf=4, max_features=sqrt, max_depth=2, bootstrap=True \n",
      "[CV]  n_estimators=289, min_samples_split=8, min_samples_leaf=4, max_features=sqrt, max_depth=2, bootstrap=True, total=  11.7s\n",
      "[CV] n_estimators=289, min_samples_split=8, min_samples_leaf=4, max_features=sqrt, max_depth=2, bootstrap=True \n",
      "[CV]  n_estimators=289, min_samples_split=8, min_samples_leaf=4, max_features=sqrt, max_depth=2, bootstrap=True, total=  11.7s\n",
      "[CV] n_estimators=478, min_samples_split=8, min_samples_leaf=5, max_features=sqrt, max_depth=None, bootstrap=True \n",
      "[CV]  n_estimators=478, min_samples_split=8, min_samples_leaf=5, max_features=sqrt, max_depth=None, bootstrap=True, total= 1.0min\n",
      "[CV] n_estimators=478, min_samples_split=8, min_samples_leaf=5, max_features=sqrt, max_depth=None, bootstrap=True \n",
      "[CV]  n_estimators=478, min_samples_split=8, min_samples_leaf=5, max_features=sqrt, max_depth=None, bootstrap=True, total= 1.0min\n",
      "[CV] n_estimators=478, min_samples_split=8, min_samples_leaf=5, max_features=sqrt, max_depth=None, bootstrap=True \n",
      "[CV]  n_estimators=478, min_samples_split=8, min_samples_leaf=5, max_features=sqrt, max_depth=None, bootstrap=True, total= 1.0min\n",
      "[CV] n_estimators=436, min_samples_split=6, min_samples_leaf=5, max_features=auto, max_depth=2, bootstrap=False \n",
      "[CV]  n_estimators=436, min_samples_split=6, min_samples_leaf=5, max_features=auto, max_depth=2, bootstrap=False, total=  21.3s\n",
      "[CV] n_estimators=436, min_samples_split=6, min_samples_leaf=5, max_features=auto, max_depth=2, bootstrap=False \n",
      "[CV]  n_estimators=436, min_samples_split=6, min_samples_leaf=5, max_features=auto, max_depth=2, bootstrap=False, total=  21.2s\n",
      "[CV] n_estimators=436, min_samples_split=6, min_samples_leaf=5, max_features=auto, max_depth=2, bootstrap=False \n",
      "[CV]  n_estimators=436, min_samples_split=6, min_samples_leaf=5, max_features=auto, max_depth=2, bootstrap=False, total=  21.3s\n",
      "[CV] n_estimators=205, min_samples_split=8, min_samples_leaf=4, max_features=sqrt, max_depth=None, bootstrap=False \n",
      "[CV]  n_estimators=205, min_samples_split=8, min_samples_leaf=4, max_features=sqrt, max_depth=None, bootstrap=False, total=  39.3s\n",
      "[CV] n_estimators=205, min_samples_split=8, min_samples_leaf=4, max_features=sqrt, max_depth=None, bootstrap=False \n",
      "[CV]  n_estimators=205, min_samples_split=8, min_samples_leaf=4, max_features=sqrt, max_depth=None, bootstrap=False, total=  39.6s\n",
      "[CV] n_estimators=205, min_samples_split=8, min_samples_leaf=4, max_features=sqrt, max_depth=None, bootstrap=False \n",
      "[CV]  n_estimators=205, min_samples_split=8, min_samples_leaf=4, max_features=sqrt, max_depth=None, bootstrap=False, total=  39.3s\n",
      "[CV] n_estimators=352, min_samples_split=2, min_samples_leaf=3, max_features=auto, max_depth=2, bootstrap=False \n",
      "[CV]  n_estimators=352, min_samples_split=2, min_samples_leaf=3, max_features=auto, max_depth=2, bootstrap=False, total=  17.1s\n",
      "[CV] n_estimators=352, min_samples_split=2, min_samples_leaf=3, max_features=auto, max_depth=2, bootstrap=False \n",
      "[CV]  n_estimators=352, min_samples_split=2, min_samples_leaf=3, max_features=auto, max_depth=2, bootstrap=False, total=  17.2s\n",
      "[CV] n_estimators=352, min_samples_split=2, min_samples_leaf=3, max_features=auto, max_depth=2, bootstrap=False \n",
      "[CV]  n_estimators=352, min_samples_split=2, min_samples_leaf=3, max_features=auto, max_depth=2, bootstrap=False, total=  17.0s\n",
      "[CV] n_estimators=226, min_samples_split=2, min_samples_leaf=1, max_features=auto, max_depth=None, bootstrap=True \n",
      "[CV]  n_estimators=226, min_samples_split=2, min_samples_leaf=1, max_features=auto, max_depth=None, bootstrap=True, total=  30.2s\n",
      "[CV] n_estimators=226, min_samples_split=2, min_samples_leaf=1, max_features=auto, max_depth=None, bootstrap=True \n",
      "[CV]  n_estimators=226, min_samples_split=2, min_samples_leaf=1, max_features=auto, max_depth=None, bootstrap=True, total=  30.4s\n",
      "[CV] n_estimators=226, min_samples_split=2, min_samples_leaf=1, max_features=auto, max_depth=None, bootstrap=True \n",
      "[CV]  n_estimators=226, min_samples_split=2, min_samples_leaf=1, max_features=auto, max_depth=None, bootstrap=True, total=  30.3s\n",
      "[CV] n_estimators=247, min_samples_split=6, min_samples_leaf=1, max_features=auto, max_depth=None, bootstrap=False \n",
      "[CV]  n_estimators=247, min_samples_split=6, min_samples_leaf=1, max_features=auto, max_depth=None, bootstrap=False, total=  49.2s\n",
      "[CV] n_estimators=247, min_samples_split=6, min_samples_leaf=1, max_features=auto, max_depth=None, bootstrap=False \n",
      "[CV]  n_estimators=247, min_samples_split=6, min_samples_leaf=1, max_features=auto, max_depth=None, bootstrap=False, total=  49.0s\n",
      "[CV] n_estimators=247, min_samples_split=6, min_samples_leaf=1, max_features=auto, max_depth=None, bootstrap=False \n",
      "[CV]  n_estimators=247, min_samples_split=6, min_samples_leaf=1, max_features=auto, max_depth=None, bootstrap=False, total=  49.4s\n",
      "[CV] n_estimators=205, min_samples_split=2, min_samples_leaf=3, max_features=sqrt, max_depth=2, bootstrap=True \n",
      "[CV]  n_estimators=205, min_samples_split=2, min_samples_leaf=3, max_features=sqrt, max_depth=2, bootstrap=True, total=   8.3s\n",
      "[CV] n_estimators=205, min_samples_split=2, min_samples_leaf=3, max_features=sqrt, max_depth=2, bootstrap=True \n",
      "[CV]  n_estimators=205, min_samples_split=2, min_samples_leaf=3, max_features=sqrt, max_depth=2, bootstrap=True, total=   8.3s\n",
      "[CV] n_estimators=205, min_samples_split=2, min_samples_leaf=3, max_features=sqrt, max_depth=2, bootstrap=True \n",
      "[CV]  n_estimators=205, min_samples_split=2, min_samples_leaf=3, max_features=sqrt, max_depth=2, bootstrap=True, total=   8.3s\n",
      "[CV] n_estimators=163, min_samples_split=6, min_samples_leaf=2, max_features=auto, max_depth=None, bootstrap=False \n",
      "[CV]  n_estimators=163, min_samples_split=6, min_samples_leaf=2, max_features=auto, max_depth=None, bootstrap=False, total=  31.9s\n",
      "[CV] n_estimators=163, min_samples_split=6, min_samples_leaf=2, max_features=auto, max_depth=None, bootstrap=False \n",
      "[CV]  n_estimators=163, min_samples_split=6, min_samples_leaf=2, max_features=auto, max_depth=None, bootstrap=False, total=  31.8s\n",
      "[CV] n_estimators=163, min_samples_split=6, min_samples_leaf=2, max_features=auto, max_depth=None, bootstrap=False \n",
      "[CV]  n_estimators=163, min_samples_split=6, min_samples_leaf=2, max_features=auto, max_depth=None, bootstrap=False, total=  31.8s\n",
      "[CV] n_estimators=436, min_samples_split=10, min_samples_leaf=1, max_features=sqrt, max_depth=None, bootstrap=False \n",
      "[CV]  n_estimators=436, min_samples_split=10, min_samples_leaf=1, max_features=sqrt, max_depth=None, bootstrap=False, total= 1.5min\n",
      "[CV] n_estimators=436, min_samples_split=10, min_samples_leaf=1, max_features=sqrt, max_depth=None, bootstrap=False \n",
      "[CV]  n_estimators=436, min_samples_split=10, min_samples_leaf=1, max_features=sqrt, max_depth=None, bootstrap=False, total= 1.5min\n",
      "[CV] n_estimators=436, min_samples_split=10, min_samples_leaf=1, max_features=sqrt, max_depth=None, bootstrap=False \n"
     ]
    },
    {
     "name": "stdout",
     "output_type": "stream",
     "text": [
      "[CV]  n_estimators=436, min_samples_split=10, min_samples_leaf=1, max_features=sqrt, max_depth=None, bootstrap=False, total= 1.5min\n",
      "[CV] n_estimators=247, min_samples_split=10, min_samples_leaf=5, max_features=sqrt, max_depth=None, bootstrap=True \n",
      "[CV]  n_estimators=247, min_samples_split=10, min_samples_leaf=5, max_features=sqrt, max_depth=None, bootstrap=True, total=  31.5s\n",
      "[CV] n_estimators=247, min_samples_split=10, min_samples_leaf=5, max_features=sqrt, max_depth=None, bootstrap=True \n",
      "[CV]  n_estimators=247, min_samples_split=10, min_samples_leaf=5, max_features=sqrt, max_depth=None, bootstrap=True, total=  31.6s\n",
      "[CV] n_estimators=247, min_samples_split=10, min_samples_leaf=5, max_features=sqrt, max_depth=None, bootstrap=True \n",
      "[CV]  n_estimators=247, min_samples_split=10, min_samples_leaf=5, max_features=sqrt, max_depth=None, bootstrap=True, total=  31.5s\n",
      "[CV] n_estimators=500, min_samples_split=8, min_samples_leaf=2, max_features=auto, max_depth=2, bootstrap=True \n",
      "[CV]  n_estimators=500, min_samples_split=8, min_samples_leaf=2, max_features=auto, max_depth=2, bootstrap=True, total=  20.2s\n",
      "[CV] n_estimators=500, min_samples_split=8, min_samples_leaf=2, max_features=auto, max_depth=2, bootstrap=True \n",
      "[CV]  n_estimators=500, min_samples_split=8, min_samples_leaf=2, max_features=auto, max_depth=2, bootstrap=True, total=  20.2s\n",
      "[CV] n_estimators=500, min_samples_split=8, min_samples_leaf=2, max_features=auto, max_depth=2, bootstrap=True \n",
      "[CV]  n_estimators=500, min_samples_split=8, min_samples_leaf=2, max_features=auto, max_depth=2, bootstrap=True, total=  20.2s\n",
      "[CV] n_estimators=289, min_samples_split=2, min_samples_leaf=2, max_features=auto, max_depth=2, bootstrap=True \n",
      "[CV]  n_estimators=289, min_samples_split=2, min_samples_leaf=2, max_features=auto, max_depth=2, bootstrap=True, total=  11.7s\n",
      "[CV] n_estimators=289, min_samples_split=2, min_samples_leaf=2, max_features=auto, max_depth=2, bootstrap=True \n",
      "[CV]  n_estimators=289, min_samples_split=2, min_samples_leaf=2, max_features=auto, max_depth=2, bootstrap=True, total=  11.7s\n",
      "[CV] n_estimators=289, min_samples_split=2, min_samples_leaf=2, max_features=auto, max_depth=2, bootstrap=True \n",
      "[CV]  n_estimators=289, min_samples_split=2, min_samples_leaf=2, max_features=auto, max_depth=2, bootstrap=True, total=  11.7s\n",
      "[CV] n_estimators=478, min_samples_split=8, min_samples_leaf=1, max_features=auto, max_depth=None, bootstrap=False \n",
      "[CV]  n_estimators=478, min_samples_split=8, min_samples_leaf=1, max_features=auto, max_depth=None, bootstrap=False, total= 1.6min\n",
      "[CV] n_estimators=478, min_samples_split=8, min_samples_leaf=1, max_features=auto, max_depth=None, bootstrap=False \n",
      "[CV]  n_estimators=478, min_samples_split=8, min_samples_leaf=1, max_features=auto, max_depth=None, bootstrap=False, total= 1.6min\n",
      "[CV] n_estimators=478, min_samples_split=8, min_samples_leaf=1, max_features=auto, max_depth=None, bootstrap=False \n",
      "[CV]  n_estimators=478, min_samples_split=8, min_samples_leaf=1, max_features=auto, max_depth=None, bootstrap=False, total= 1.6min\n"
     ]
    },
    {
     "name": "stderr",
     "output_type": "stream",
     "text": [
      "[Parallel(n_jobs=1)]: Done 150 out of 150 | elapsed: 87.6min finished\n"
     ]
    },
    {
     "data": {
      "text/plain": [
       "RandomizedSearchCV(cv=3, error_score='raise-deprecating',\n",
       "                   estimator=RandomForestClassifier(bootstrap=True,\n",
       "                                                    class_weight='balanced',\n",
       "                                                    criterion='entropy',\n",
       "                                                    max_depth=None,\n",
       "                                                    max_features='auto',\n",
       "                                                    max_leaf_nodes=None,\n",
       "                                                    min_impurity_decrease=0.0,\n",
       "                                                    min_impurity_split=None,\n",
       "                                                    min_samples_leaf=1,\n",
       "                                                    min_samples_split=2,\n",
       "                                                    min_weight_fraction_leaf=0.0,\n",
       "                                                    n_estimators=200,\n",
       "                                                    n_jobs=None,...\n",
       "                   param_distributions={'bootstrap': [True, False],\n",
       "                                        'max_depth': [2, None],\n",
       "                                        'max_features': ['auto', 'sqrt'],\n",
       "                                        'min_samples_leaf': [1, 2, 3, 4, 5],\n",
       "                                        'min_samples_split': [2, 4, 6, 8, 10],\n",
       "                                        'n_estimators': [100, 121, 142, 163,\n",
       "                                                         184, 205, 226, 247,\n",
       "                                                         268, 289, 310, 331,\n",
       "                                                         352, 373, 394, 415,\n",
       "                                                         436, 457, 478, 500]},\n",
       "                   pre_dispatch='2*n_jobs', random_state=42, refit=True,\n",
       "                   return_train_score=False, scoring=None, verbose=2)"
      ]
     },
     "execution_count": 84,
     "metadata": {},
     "output_type": "execute_result"
    }
   ],
   "source": [
    "rf_random = RandomizedSearchCV(estimator = model, param_distributions = random_grid, n_iter = 50, cv = 3, verbose=2, random_state=42)# Fit the random search model\n",
    "rf_random.fit(X, y)"
   ]
  },
  {
   "cell_type": "code",
   "execution_count": 85,
   "metadata": {},
   "outputs": [
    {
     "data": {
      "text/plain": [
       "{'n_estimators': 478,\n",
       " 'min_samples_split': 8,\n",
       " 'min_samples_leaf': 1,\n",
       " 'max_features': 'auto',\n",
       " 'max_depth': None,\n",
       " 'bootstrap': False}"
      ]
     },
     "execution_count": 85,
     "metadata": {},
     "output_type": "execute_result"
    }
   ],
   "source": [
    "rf_random.best_params_"
   ]
  },
  {
   "cell_type": "code",
   "execution_count": 88,
   "metadata": {},
   "outputs": [],
   "source": [
    "model = RandomForestClassifier(random_state=100,n_estimators=478,criterion='entropy',class_weight='balanced',min_samples_split=8,min_samples_leaf= 1,max_features= 'auto',max_depth= None,bootstrap= False)"
   ]
  },
  {
   "cell_type": "code",
   "execution_count": 89,
   "metadata": {},
   "outputs": [
    {
     "name": "stdout",
     "output_type": "stream",
     "text": [
      "1\n",
      "[ 56997  47495 225196 ... 149814  73914 161787] [229385  79327   9140 ... 157244  64754  96674]\n",
      "2\n",
      "[ 49983 222065 122219 ...  73026  87355 116286] [  9681   3220 134905 ... 149775 100288 211509]\n",
      "3\n",
      "[ 66171  29997  72039 ... 103121 154532 223703] [155568  24461 187733 ...  50783 162109 125243]\n",
      "4\n",
      "[ 93523  23156  95524 ... 202787 192406 173558] [62812 57967 73367 ... 83509 33335 40853]\n",
      "5\n",
      "[ 30116  86632  25328 ...  14663  40686 175093] [137616  58246  62853 ...  30764 107517 168100]\n",
      "6\n",
      "[206920 186060 225595 ... 178206  36100 215043] [ 84459  62173  28056 ... 117782 200582  77709]\n",
      "7\n",
      "[198635 137729  66048 ... 144851  18947 210668] [194227   6704 161463 ...  75046 212934 177507]\n",
      "8\n",
      "[ 35409  46138  29523 ... 222484  76058 178039] [ 97498  98975  52975 ... 115545 112599  22397]\n",
      "9\n",
      "[ 20760  88816  59230 ... 134340 189918  54479] [173508 192261 184668 ... 121241 111079 131404]\n",
      "10\n",
      "[103672 187386 195920 ... 227717  77249 145725] [178889  65114 148611 ...  57072 135429 163106]\n",
      "F1-score 0.9997055298463465\n"
     ]
    }
   ],
   "source": [
    "sss = StratifiedShuffleSplit(n_splits=10)\n",
    "f1_scores = []\n",
    "i=0\n",
    "for train_index, val_index in sss.split(X, y):\n",
    "    i=i+1\n",
    "    print(i)\n",
    "    print(train_index,val_index)\n",
    "    #print(train.iloc[train_index])\n",
    "    x_train, x_val = X.iloc[train_index], X.iloc[val_index]\n",
    "    #x_train, x_val = train_new[train_index], train_new[val_index]\n",
    "    #y_train, y_val = y.iloc[train_index], y.iloc[val_index]\n",
    "    y_train, y_val = y[train_index], y[val_index]\n",
    "    model.fit(x_train, y_train)\n",
    "    y_pred = model.predict(x_val)\n",
    "    f1_scores.append(f1_score(y_val, y_pred))\n",
    "\n",
    "print('F1-score', np.mean(f1_scores))"
   ]
  },
  {
   "cell_type": "code",
   "execution_count": 90,
   "metadata": {},
   "outputs": [],
   "source": [
    "train_X,valid_X,train_y,valid_y = train_test_split(X,y)"
   ]
  },
  {
   "cell_type": "code",
   "execution_count": 91,
   "metadata": {},
   "outputs": [
    {
     "data": {
      "text/plain": [
       "RandomForestClassifier(bootstrap=False, class_weight='balanced',\n",
       "                       criterion='entropy', max_depth=None, max_features='auto',\n",
       "                       max_leaf_nodes=None, min_impurity_decrease=0.0,\n",
       "                       min_impurity_split=None, min_samples_leaf=1,\n",
       "                       min_samples_split=8, min_weight_fraction_leaf=0.0,\n",
       "                       n_estimators=478, n_jobs=None, oob_score=False,\n",
       "                       random_state=100, verbose=0, warm_start=False)"
      ]
     },
     "execution_count": 91,
     "metadata": {},
     "output_type": "execute_result"
    }
   ],
   "source": [
    "model.fit(train_X, train_y)"
   ]
  },
  {
   "cell_type": "code",
   "execution_count": 92,
   "metadata": {},
   "outputs": [],
   "source": [
    "y_pred = model.predict(valid_X)"
   ]
  },
  {
   "cell_type": "code",
   "execution_count": 93,
   "metadata": {},
   "outputs": [
    {
     "name": "stdout",
     "output_type": "stream",
     "text": [
      "0.9995850191928624\n"
     ]
    }
   ],
   "source": [
    "print(f1_score(valid_y, y_pred))"
   ]
  },
  {
   "cell_type": "code",
   "execution_count": null,
   "metadata": {},
   "outputs": [],
   "source": []
  }
 ],
 "metadata": {
  "kernelspec": {
   "display_name": "Python 3",
   "language": "python",
   "name": "python3"
  },
  "language_info": {
   "codemirror_mode": {
    "name": "ipython",
    "version": 3
   },
   "file_extension": ".py",
   "mimetype": "text/x-python",
   "name": "python",
   "nbconvert_exporter": "python",
   "pygments_lexer": "ipython3",
   "version": "3.7.3"
  }
 },
 "nbformat": 4,
 "nbformat_minor": 2
}
